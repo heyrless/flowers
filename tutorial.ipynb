{
 "cells": [
  {
   "cell_type": "markdown",
   "metadata": {},
   "source": [
    "# Boot your Pi\n",
    "\n",
    "* Donwload Raspbian Lite (https://www.raspberrypi.org/downloads/raspbian/)\n",
    "* Burn image to SD card with Etcher (https://etcher.io/)\n",
    "\n",
    "## Prepare Pi to connect to Wi-Fi on first boot\n",
    "\n",
    "If a wpa_supplicant.conf file is placed into the /boot/ directory, this will be moved to the /etc/wpa_supplicant/ directory the next time the system is booted, overwriting the network settings; this allows a Wifi configuration to be preloaded onto a card from a Windows or other machine that can only see the boot partition.\n",
    "\n",
    "(https://raspberrypi.stackexchange.com/questions/10251/prepare-sd-card-for-wifi-on-headless-pi)\n",
    "\n",
    "\n",
    "*A typical wpa_supplicant.conf file is:*\n",
    "```\n",
    "ctrl_interface=DIR=/var/run/wpa_supplicant GROUP=netdev\n",
    "update_config=1\n",
    "country=«your_ISO-3166-1_two-letter_country_code»\n",
    "\n",
    "network={\n",
    "    ssid=\"«your_SSID»\"\n",
    "    psk=\"«your_PSK»\"\n",
    "    key_mgmt=WPA-PSK\n",
    "}\n",
    "```\n",
    "------\n",
    "In addition, you may wish to add Secure Shell (SSH) access to your headless Raspberry Pi. SSH is disabled on Raspbian by default for security reasons. You can enable it by creating a file called /boot/ssh:\n",
    "\n",
    "For headless setup, SSH can be enabled by placing a file named 'ssh', without any extension, onto the boot partition of the SD card. When the Pi boots, it looks for the 'ssh' file; if it is found, SSH is enabled and then the file is deleted. The content of the file doesn't matter: it could contain either text or nothing at all.\n",
    "\n",
    "If you enable SSH access, you should change the password of the standard pi user as soon as possible. As the default password (raspberry) is widely known, your Raspberry Pi is effectively open to everyone on your network until you change the password. You can do this with the `passwd` command.\n",
    "\n",
    "\n",
    "### Connect to your Pi\n",
    "\n",
    "After adding the required files to the Pi SD, instert it in the Pi and fire it up.\n",
    "Open a terminal window and get the list of devices connected to the network with `arp -a`. Find your Pi's IP and connect to it with the following command:\n",
    "```\n",
    "ssh pi@xxx.xxx.xxx.xxx -p 22\n",
    "```\n",
    "Where xxx.xxx.xxx.xxx is the IP address of your Pi. Default password is raspberry, proceed to change it with `passwd`.\n",
    "\n",
    "# Install a Jupyter server \n",
    "\n",
    "Follow the instructions from this [tutorial](https://github.com/kleinee/jns).\n",
    "\n",
    "```\n",
    "sudo apt install -y git\n",
    "git clone https://github.com/kleinee/jns\n",
    "cd ~/jns\n",
    "```\n",
    "\n",
    "Install Jupyter:\n",
    "```\n",
    "sudo ./inst_jns.sh\n",
    "```\n",
    "\n",
    "### Start Jupyter server on boot\n",
    "\n",
    "Create a bash script `launcher.sh` with the tasks to start at boot:\n",
    "\n",
    "```\n",
    "#!/bin/bash\n",
    "source /home/pi/.venv/jns/bin/activate\n",
    "nohup jupyter lab &>/dev/null &\n",
    "```\n",
    "\n",
    "To run the script at boot, edit the file:\n",
    "```\n",
    "crontab -e\n",
    "```\n",
    "Add line to file:\n",
    "\n",
    "```\n",
    "@reboot /bin/bash /home/pi/flowers/launcher.sh\n",
    "```\n",
    "\n",
    "### Jupyter start folder\n",
    "\n",
    "To modify the boot folder of jupyter, call the `nano /home/pi/.jupyter/jupyter_notebook_config.py` and change the line `c.NotebookApp.notebook_dir = '/the/path/to/home/folder/'`\n",
    "\n",
    "------\n",
    "# Install DHT sensor library\n",
    "\n",
    "Enter the project directory:\n",
    "(Make sure the python environment is active)\n",
    "\n",
    "And run the following commands in bash:\n",
    "\n",
    "```\n",
    "cd /home/pi/flowers\n",
    "git clone https://github.com/adafruit/Adafruit_Python_DHT.git\n",
    "cd Adafruit_Python_DHT\n",
    "python setup.py install\n",
    "```\n",
    "Once the library is installed, remove the installation folder:\n",
    "```\n",
    "cd ..\n",
    "rm -rf Adafruit_Python_DHT\n",
    "```\n",
    "\n",
    "## Install RPi.GPIO\n",
    "```\n",
    "pip3 install RPi.GPIO\n",
    "```\n",
    "\n",
    "## Install the Telegram bot API\n",
    "```\n",
    "pip3 install telepot\n",
    "```\n",
    "\n",
    "------\n",
    "# Git cycle\n",
    "\n",
    "```\n",
    "git add .\n",
    "git commit -a -m \"commit\" (do not need commit message either)\n",
    "git push\n",
    "```\n",
    "\n",
    "------\n",
    "# Picamera\n",
    "\n",
    "Enable the picamera by calling `sudo raspi-config`."
   ]
  },
  {
   "cell_type": "markdown",
   "metadata": {},
   "source": [
    "# Tentativo 2\n",
    "\n",
    "Install pip:\n",
    "```\n",
    "sudo apt-get install python3-pip\n",
    "```\n",
    "\n",
    "Install virtualenv:\n",
    "```\n",
    "sudo pip3 install virtualenv\n",
    "```\n",
    "\n",
    "Create an environment and activate it:\n",
    "```\n",
    "virtualenv my_project\n",
    "source /home/pi/my_project/bin/activate\n",
    "```\n",
    "\n",
    "Install Jupyter in the environment:\n",
    "```\n",
    "pip3 install jupyter\n",
    "```\n",
    "\n",
    "Install git:\n",
    "```\n",
    "sudo apt-get install git\n",
    "```\n",
    "\n",
    "Fix ECDSA problem by removing the cached key for 192.168.0.170 on the local machine:\n",
    "```\n",
    "ssh-keygen -R 192.168.0.170\n",
    "```\n",
    "\n",
    "Install telegram bot:\n",
    "```\n",
    "pip3 install telepot\n",
    "```\n",
    "\n",
    "------\n",
    "\n",
    "After installing jns, go up one level and clone the repo:\n",
    "```\n",
    "cd ..\n",
    "git clone https://github.com/dzanaga/flowers.git\n",
    "```\n"
   ]
  },
  {
   "cell_type": "code",
   "execution_count": 1,
   "metadata": {},
   "outputs": [],
   "source": [
    "import Adafruit_DHT"
   ]
  },
  {
   "cell_type": "code",
   "execution_count": 2,
   "metadata": {},
   "outputs": [
    {
     "name": "stdout",
     "output_type": "stream",
     "text": [
      "Temp=20.4*  Humidity=38.7%\n"
     ]
    }
   ],
   "source": [
    "humidity, temperature = Adafruit_DHT.read_retry(22, 4)\n",
    "        \n",
    "print('Temp={0:0.1f}*  Humidity={1:0.1f}%'.format(temperature, humidity))"
   ]
  },
  {
   "cell_type": "code",
   "execution_count": 5,
   "metadata": {},
   "outputs": [],
   "source": [
    "import RPi.GPIO as GPIO\n",
    "\n",
    "def relay_on_off(pin_in=1,status=0):\n",
    "    \n",
    "    GPIO.setwarnings(False)\n",
    "    GPIO.setmode(GPIO.BCM)\n",
    "\n",
    "    GPIO.setup(17, GPIO.OUT)\n",
    "    GPIO.setup(27, GPIO.OUT)\n",
    "\n",
    "    if pin_in == 1:\n",
    "        pin = 17\n",
    "    elif pin_in == 2:\n",
    "        pin = 27\n",
    "\n",
    "    if status:\n",
    "        GPIO.output(pin, GPIO.LOW)\n",
    "    else:\n",
    "        GPIO.output(pin, GPIO.HIGH)\n",
    "\n",
    "    \n",
    "def get_status(pin_in=1):\n",
    "    \n",
    "    GPIO.setwarnings(False)\n",
    "    GPIO.setmode(GPIO.BCM)\n",
    "\n",
    "    GPIO.setup(17, GPIO.OUT)\n",
    "    GPIO.setup(27, GPIO.OUT)\n",
    "\n",
    "    if pin_in == 1:\n",
    "        pin = 17\n",
    "    elif pin_in == 2:\n",
    "        pin = 27\n",
    "    \n",
    "    status = GPIO.input(pin)\n",
    "\n",
    "    return not status #status inverted since GPIO in on when LOW and viceversa\n",
    "    "
   ]
  },
  {
   "cell_type": "code",
   "execution_count": 17,
   "metadata": {},
   "outputs": [],
   "source": [
    "relay_on_off(1,0)\n"
   ]
  },
  {
   "cell_type": "code",
   "execution_count": 2,
   "metadata": {},
   "outputs": [],
   "source": [
    "relay_on_off(2,0)"
   ]
  },
  {
   "cell_type": "code",
   "execution_count": 19,
   "metadata": {},
   "outputs": [],
   "source": [
    "relay_on_off(1,1)"
   ]
  },
  {
   "cell_type": "code",
   "execution_count": 13,
   "metadata": {},
   "outputs": [],
   "source": [
    "relay_on_off(2,1)"
   ]
  },
  {
   "cell_type": "code",
   "execution_count": 3,
   "metadata": {},
   "outputs": [
    {
     "name": "stdout",
     "output_type": "stream",
     "text": [
      "Humidity at 34.7% and Temperature at 23.5*:\n",
      " Pin 1 is True, Pin 2 is False.\n",
      "Humidity at 32.9% and Temperature at 23.3*:\n",
      " Pin 1 is True, Pin 2 is False.\n",
      "Humidity at 33.1% and Temperature at 23.3*:\n",
      " Pin 1 is True, Pin 2 is False.\n",
      "Humidity at 35.0% and Temperature at 23.3*:\n",
      " Pin 1 is True, Pin 2 is False.\n",
      "Humidity at 37.3% and Temperature at 23.3*:\n",
      " Pin 1 is True, Pin 2 is False.\n",
      "Humidity at 38.2% and Temperature at 23.3*:\n",
      " Pin 1 is True, Pin 2 is False.\n",
      "Humidity at 40.3% and Temperature at 23.3*:\n",
      " Pin 1 is True, Pin 2 is False.\n",
      "Humidity at 41.4% and Temperature at 23.2*:\n",
      " Pin 1 is True, Pin 2 is False.\n",
      "Humidity at 43.9% and Temperature at 23.2*:\n",
      " Pin 1 is True, Pin 2 is False.\n",
      "Humidity at 44.3% and Temperature at 23.2*:\n",
      " Pin 1 is True, Pin 2 is False.\n",
      "Humidity at 45.7% and Temperature at 23.1*:\n",
      " Pin 1 is True, Pin 2 is False.\n",
      "Humidity at 46.7% and Temperature at 23.1*:\n",
      " Pin 1 is True, Pin 2 is False.\n",
      "Humidity at 48.4% and Temperature at 23.1*:\n",
      " Pin 1 is True, Pin 2 is False.\n"
     ]
    },
    {
     "ename": "KeyboardInterrupt",
     "evalue": "",
     "output_type": "error",
     "traceback": [
      "\u001b[0;31m---------------------------------------------------------------------------\u001b[0m",
      "\u001b[0;31mKeyboardInterrupt\u001b[0m                         Traceback (most recent call last)",
      "\u001b[0;32m~/flowers/control_humidity.py\u001b[0m in \u001b[0;36m<module>\u001b[0;34m()\u001b[0m\n\u001b[1;32m     61\u001b[0m     \u001b[0;31m#print('Humidity at {0:0.1f}% and Temperature at {1:0.1f}*:\\n Pin 1 is {2:}, Pin 2 is {3:}.'.format(humidity, temperature, get_status(1), get_status(2)))\u001b[0m\u001b[0;34m\u001b[0m\u001b[0;34m\u001b[0m\u001b[0m\n\u001b[1;32m     62\u001b[0m \u001b[0;34m\u001b[0m\u001b[0m\n\u001b[0;32m---> 63\u001b[0;31m     \u001b[0mtime\u001b[0m\u001b[0;34m.\u001b[0m\u001b[0msleep\u001b[0m\u001b[0;34m(\u001b[0m\u001b[0;36m5\u001b[0m\u001b[0;34m)\u001b[0m\u001b[0;34m\u001b[0m\u001b[0m\n\u001b[0m",
      "\u001b[0;31mKeyboardInterrupt\u001b[0m: "
     ]
    }
   ],
   "source": [
    "run control_humidity.py"
   ]
  },
  {
   "cell_type": "code",
   "execution_count": 6,
   "metadata": {},
   "outputs": [
    {
     "name": "stdout",
     "output_type": "stream",
     "text": [
      "2018-03-01 12:40:59.735173\n",
      "10:30:00\n"
     ]
    }
   ],
   "source": [
    "import relay as rl\n",
    "import time\n",
    "from datetime import datetime, time\n",
    "\n",
    "\n",
    "now = datetime.now()\n",
    "now_time = now.time()\n",
    "\n",
    "# if now_time >= time(10,30) and now_time <= time(16,30):\n",
    "print(now)\n",
    "print(time(10,30))\n",
    "# rl.relay_on_off(2,1)  \n",
    "# time.sleep(300)\n",
    "# rl.relay_on_off(2,0)\n",
    "# time.sleep(3300)"
   ]
  },
  {
   "cell_type": "code",
   "execution_count": 12,
   "metadata": {},
   "outputs": [
    {
     "name": "stdout",
     "output_type": "stream",
     "text": [
      "Job starts...\n",
      "2018-03-01 12:49:13.031818\n",
      "True\n"
     ]
    },
    {
     "name": "stderr",
     "output_type": "stream",
     "text": [
      "Execution of job \"timed_job (trigger: interval[0:00:10], next run at: 2018-03-01 12:49:33 CET)\" skipped: maximum number of running instances reached (1)\n",
      "Execution of job \"timed_job (trigger: interval[0:00:10], next run at: 2018-03-01 12:49:43 CET)\" skipped: maximum number of running instances reached (1)\n"
     ]
    },
    {
     "name": "stdout",
     "output_type": "stream",
     "text": [
      "False\n",
      "2018-03-01 12:49:13.031818\n",
      "Job starts...\n",
      "2018-03-01 12:49:13.031818\n",
      "False\n"
     ]
    },
    {
     "ename": "KeyboardInterrupt",
     "evalue": "",
     "output_type": "error",
     "traceback": [
      "\u001b[0;31m---------------------------------------------------------------------------\u001b[0m",
      "\u001b[0;31mKeyboardInterrupt\u001b[0m                         Traceback (most recent call last)",
      "\u001b[0;32m<ipython-input-12-dcc8e5f92268>\u001b[0m in \u001b[0;36m<module>\u001b[0;34m()\u001b[0m\n\u001b[1;32m     26\u001b[0m \u001b[0;34m\u001b[0m\u001b[0m\n\u001b[1;32m     27\u001b[0m \u001b[0;34m\u001b[0m\u001b[0m\n\u001b[0;32m---> 28\u001b[0;31m \u001b[0msched\u001b[0m\u001b[0;34m.\u001b[0m\u001b[0mstart\u001b[0m\u001b[0;34m(\u001b[0m\u001b[0;34m)\u001b[0m\u001b[0;34m\u001b[0m\u001b[0m\n\u001b[0m",
      "\u001b[0;32m~/.venv/jns/lib/python3.5/site-packages/apscheduler/schedulers/blocking.py\u001b[0m in \u001b[0;36mstart\u001b[0;34m(self, *args, **kwargs)\u001b[0m\n\u001b[1;32m     17\u001b[0m         \u001b[0mself\u001b[0m\u001b[0;34m.\u001b[0m\u001b[0m_event\u001b[0m \u001b[0;34m=\u001b[0m \u001b[0mEvent\u001b[0m\u001b[0;34m(\u001b[0m\u001b[0;34m)\u001b[0m\u001b[0;34m\u001b[0m\u001b[0m\n\u001b[1;32m     18\u001b[0m         \u001b[0msuper\u001b[0m\u001b[0;34m(\u001b[0m\u001b[0mBlockingScheduler\u001b[0m\u001b[0;34m,\u001b[0m \u001b[0mself\u001b[0m\u001b[0;34m)\u001b[0m\u001b[0;34m.\u001b[0m\u001b[0mstart\u001b[0m\u001b[0;34m(\u001b[0m\u001b[0;34m*\u001b[0m\u001b[0margs\u001b[0m\u001b[0;34m,\u001b[0m \u001b[0;34m**\u001b[0m\u001b[0mkwargs\u001b[0m\u001b[0;34m)\u001b[0m\u001b[0;34m\u001b[0m\u001b[0m\n\u001b[0;32m---> 19\u001b[0;31m         \u001b[0mself\u001b[0m\u001b[0;34m.\u001b[0m\u001b[0m_main_loop\u001b[0m\u001b[0;34m(\u001b[0m\u001b[0;34m)\u001b[0m\u001b[0;34m\u001b[0m\u001b[0m\n\u001b[0m\u001b[1;32m     20\u001b[0m \u001b[0;34m\u001b[0m\u001b[0m\n\u001b[1;32m     21\u001b[0m     \u001b[0;32mdef\u001b[0m \u001b[0mshutdown\u001b[0m\u001b[0;34m(\u001b[0m\u001b[0mself\u001b[0m\u001b[0;34m,\u001b[0m \u001b[0mwait\u001b[0m\u001b[0;34m=\u001b[0m\u001b[0;32mTrue\u001b[0m\u001b[0;34m)\u001b[0m\u001b[0;34m:\u001b[0m\u001b[0;34m\u001b[0m\u001b[0m\n",
      "\u001b[0;32m~/.venv/jns/lib/python3.5/site-packages/apscheduler/schedulers/blocking.py\u001b[0m in \u001b[0;36m_main_loop\u001b[0;34m(self)\u001b[0m\n\u001b[1;32m     26\u001b[0m         \u001b[0mwait_seconds\u001b[0m \u001b[0;34m=\u001b[0m \u001b[0mTIMEOUT_MAX\u001b[0m\u001b[0;34m\u001b[0m\u001b[0m\n\u001b[1;32m     27\u001b[0m         \u001b[0;32mwhile\u001b[0m \u001b[0mself\u001b[0m\u001b[0;34m.\u001b[0m\u001b[0mstate\u001b[0m \u001b[0;34m!=\u001b[0m \u001b[0mSTATE_STOPPED\u001b[0m\u001b[0;34m:\u001b[0m\u001b[0;34m\u001b[0m\u001b[0m\n\u001b[0;32m---> 28\u001b[0;31m             \u001b[0mself\u001b[0m\u001b[0;34m.\u001b[0m\u001b[0m_event\u001b[0m\u001b[0;34m.\u001b[0m\u001b[0mwait\u001b[0m\u001b[0;34m(\u001b[0m\u001b[0mwait_seconds\u001b[0m\u001b[0;34m)\u001b[0m\u001b[0;34m\u001b[0m\u001b[0m\n\u001b[0m\u001b[1;32m     29\u001b[0m             \u001b[0mself\u001b[0m\u001b[0;34m.\u001b[0m\u001b[0m_event\u001b[0m\u001b[0;34m.\u001b[0m\u001b[0mclear\u001b[0m\u001b[0;34m(\u001b[0m\u001b[0;34m)\u001b[0m\u001b[0;34m\u001b[0m\u001b[0m\n\u001b[1;32m     30\u001b[0m             \u001b[0mwait_seconds\u001b[0m \u001b[0;34m=\u001b[0m \u001b[0mself\u001b[0m\u001b[0;34m.\u001b[0m\u001b[0m_process_jobs\u001b[0m\u001b[0;34m(\u001b[0m\u001b[0;34m)\u001b[0m\u001b[0;34m\u001b[0m\u001b[0m\n",
      "\u001b[0;32m/usr/lib/python3.5/threading.py\u001b[0m in \u001b[0;36mwait\u001b[0;34m(self, timeout)\u001b[0m\n\u001b[1;32m    547\u001b[0m             \u001b[0msignaled\u001b[0m \u001b[0;34m=\u001b[0m \u001b[0mself\u001b[0m\u001b[0;34m.\u001b[0m\u001b[0m_flag\u001b[0m\u001b[0;34m\u001b[0m\u001b[0m\n\u001b[1;32m    548\u001b[0m             \u001b[0;32mif\u001b[0m \u001b[0;32mnot\u001b[0m \u001b[0msignaled\u001b[0m\u001b[0;34m:\u001b[0m\u001b[0;34m\u001b[0m\u001b[0m\n\u001b[0;32m--> 549\u001b[0;31m                 \u001b[0msignaled\u001b[0m \u001b[0;34m=\u001b[0m \u001b[0mself\u001b[0m\u001b[0;34m.\u001b[0m\u001b[0m_cond\u001b[0m\u001b[0;34m.\u001b[0m\u001b[0mwait\u001b[0m\u001b[0;34m(\u001b[0m\u001b[0mtimeout\u001b[0m\u001b[0;34m)\u001b[0m\u001b[0;34m\u001b[0m\u001b[0m\n\u001b[0m\u001b[1;32m    550\u001b[0m             \u001b[0;32mreturn\u001b[0m \u001b[0msignaled\u001b[0m\u001b[0;34m\u001b[0m\u001b[0m\n\u001b[1;32m    551\u001b[0m \u001b[0;34m\u001b[0m\u001b[0m\n",
      "\u001b[0;32m/usr/lib/python3.5/threading.py\u001b[0m in \u001b[0;36mwait\u001b[0;34m(self, timeout)\u001b[0m\n\u001b[1;32m    295\u001b[0m             \u001b[0;32melse\u001b[0m\u001b[0;34m:\u001b[0m\u001b[0;34m\u001b[0m\u001b[0m\n\u001b[1;32m    296\u001b[0m                 \u001b[0;32mif\u001b[0m \u001b[0mtimeout\u001b[0m \u001b[0;34m>\u001b[0m \u001b[0;36m0\u001b[0m\u001b[0;34m:\u001b[0m\u001b[0;34m\u001b[0m\u001b[0m\n\u001b[0;32m--> 297\u001b[0;31m                     \u001b[0mgotit\u001b[0m \u001b[0;34m=\u001b[0m \u001b[0mwaiter\u001b[0m\u001b[0;34m.\u001b[0m\u001b[0macquire\u001b[0m\u001b[0;34m(\u001b[0m\u001b[0;32mTrue\u001b[0m\u001b[0;34m,\u001b[0m \u001b[0mtimeout\u001b[0m\u001b[0;34m)\u001b[0m\u001b[0;34m\u001b[0m\u001b[0m\n\u001b[0m\u001b[1;32m    298\u001b[0m                 \u001b[0;32melse\u001b[0m\u001b[0;34m:\u001b[0m\u001b[0;34m\u001b[0m\u001b[0m\n\u001b[1;32m    299\u001b[0m                     \u001b[0mgotit\u001b[0m \u001b[0;34m=\u001b[0m \u001b[0mwaiter\u001b[0m\u001b[0;34m.\u001b[0m\u001b[0macquire\u001b[0m\u001b[0;34m(\u001b[0m\u001b[0;32mFalse\u001b[0m\u001b[0;34m)\u001b[0m\u001b[0;34m\u001b[0m\u001b[0m\n",
      "\u001b[0;31mKeyboardInterrupt\u001b[0m: "
     ]
    },
    {
     "name": "stdout",
     "output_type": "stream",
     "text": [
      "False\n",
      "2018-03-01 12:49:13.031818\n"
     ]
    }
   ],
   "source": [
    "from apscheduler.schedulers.blocking import BlockingScheduler\n",
    "import relay as rl\n",
    "import time as t\n",
    "from datetime import datetime, time\n",
    "\n",
    "now = datetime.now()\n",
    "now_time = now.time()\n",
    "\n",
    "# if now_time >= time(10,30) and now_time <= time(16,30):\n",
    "sched = BlockingScheduler()\n",
    "\n",
    "@sched.scheduled_job('interval', seconds=10)\n",
    "def timed_job():\n",
    "    print('Job starts...')\n",
    "    print(now)\n",
    "    print(rl.get_status(2))\n",
    "    rl.relay_on_off(2,1)  \n",
    "    t.sleep(20)\n",
    "    rl.relay_on_off(2,0)\n",
    "    print(rl.get_status(2))\n",
    "    print(now)\n",
    "\n",
    "# @sched.scheduled_job('cron', day_of_week='mon-fri', hour=10)\n",
    "# def scheduled_job():\n",
    "#     print('This job is run every weekday at 10am.')\n",
    "\n",
    "\n",
    "sched.start()"
   ]
  },
  {
   "cell_type": "code",
   "execution_count": 8,
   "metadata": {},
   "outputs": [
    {
     "name": "stdout",
     "output_type": "stream",
     "text": [
      "Collecting apscheduler\n",
      "  Downloading APScheduler-3.5.1-py2.py3-none-any.whl (60kB)\n",
      "\u001b[K    100% |████████████████████████████████| 61kB 872kB/s ta 0:00:01\n",
      "\u001b[?25hCollecting tzlocal>=1.2 (from apscheduler)\n",
      "  Downloading https://www.piwheels.hostedpi.com/simple/tzlocal/tzlocal-1.5.1-py3-none-any.whl\n",
      "Requirement already satisfied: pytz in /home/pi/.venv/jns/lib/python3.5/site-packages (from apscheduler)\n",
      "Requirement already satisfied: setuptools>=0.7 in /home/pi/.venv/jns/lib/python3.5/site-packages (from apscheduler)\n",
      "Requirement already satisfied: six>=1.4.0 in /home/pi/.venv/jns/lib/python3.5/site-packages (from apscheduler)\n",
      "Installing collected packages: tzlocal, apscheduler\n",
      "Successfully installed apscheduler-3.5.1 tzlocal-1.5.1\n"
     ]
    }
   ],
   "source": [
    "!pip3 install apscheduler"
   ]
  },
  {
   "cell_type": "code",
   "execution_count": 1,
   "metadata": {},
   "outputs": [],
   "source": [
    "!sudo reboot"
   ]
  },
  {
   "cell_type": "code",
   "execution_count": null,
   "metadata": {},
   "outputs": [],
   "source": [
    "ls"
   ]
  },
  {
   "cell_type": "code",
   "execution_count": null,
   "metadata": {},
   "outputs": [
    {
     "name": "stdout",
     "output_type": "stream",
     "text": [
      "*******New session*******\n",
      "2018-03-01 16:01:07.250655\n",
      "*************************\n",
      "I am listening ...\n",
      "Got command: /vid160\n"
     ]
    }
   ],
   "source": [
    "run flowers_bot.py"
   ]
  },
  {
   "cell_type": "code",
   "execution_count": 6,
   "metadata": {},
   "outputs": [
    {
     "data": {
      "text/plain": [
       "0"
      ]
     },
     "execution_count": 6,
     "metadata": {},
     "output_type": "execute_result"
    }
   ],
   "source": [
    "import subprocess\n",
    "subprocess.call([\"/bin/bash\",\"/home/pi/flowers/webcam_build_mp4.sh\",str(1),str(60)])"
   ]
  },
  {
   "cell_type": "code",
   "execution_count": 1,
   "metadata": {},
   "outputs": [
    {
     "ename": "KeyboardInterrupt",
     "evalue": "",
     "output_type": "error",
     "traceback": [
      "\u001b[0;31m---------------------------------------------------------------------------\u001b[0m",
      "\u001b[0;31mKeyboardInterrupt\u001b[0m                         Traceback (most recent call last)",
      "\u001b[0;32m~/flowers/control_airflow.py\u001b[0m in \u001b[0;36m<module>\u001b[0;34m()\u001b[0m\n\u001b[1;32m     46\u001b[0m \u001b[0;31m#def timed_job():\u001b[0m\u001b[0;34m\u001b[0m\u001b[0;34m\u001b[0m\u001b[0m\n\u001b[1;32m     47\u001b[0m \u001b[0mrelay_on_off\u001b[0m\u001b[0;34m(\u001b[0m\u001b[0;36m2\u001b[0m\u001b[0;34m,\u001b[0m\u001b[0;36m1\u001b[0m\u001b[0;34m)\u001b[0m\u001b[0;34m\u001b[0m\u001b[0m\n\u001b[0;32m---> 48\u001b[0;31m \u001b[0mtime\u001b[0m\u001b[0;34m.\u001b[0m\u001b[0msleep\u001b[0m\u001b[0;34m(\u001b[0m\u001b[0;36m300\u001b[0m\u001b[0;34m)\u001b[0m\u001b[0;34m\u001b[0m\u001b[0m\n\u001b[0m\u001b[1;32m     49\u001b[0m \u001b[0mrelay_on_off\u001b[0m\u001b[0;34m(\u001b[0m\u001b[0;36m2\u001b[0m\u001b[0;34m,\u001b[0m\u001b[0;36m0\u001b[0m\u001b[0;34m)\u001b[0m\u001b[0;34m\u001b[0m\u001b[0m\n",
      "\u001b[0;31mKeyboardInterrupt\u001b[0m: "
     ]
    }
   ],
   "source": [
    "run control_airflow.py"
   ]
  },
  {
   "cell_type": "code",
   "execution_count": 4,
   "metadata": {},
   "outputs": [],
   "source": [
    "import apscheduler"
   ]
  },
  {
   "cell_type": "code",
   "execution_count": null,
   "metadata": {},
   "outputs": [],
   "source": [
    "apscheduler.schedulers"
   ]
  }
 ],
 "metadata": {
  "kernelspec": {
   "display_name": "Python 3",
   "language": "python",
   "name": "python3"
  },
  "language_info": {
   "codemirror_mode": {
    "name": "ipython",
    "version": 3
   },
   "file_extension": ".py",
   "mimetype": "text/x-python",
   "name": "python",
   "nbconvert_exporter": "python",
   "pygments_lexer": "ipython3",
   "version": "3.5.3"
  }
 },
 "nbformat": 4,
 "nbformat_minor": 2
}
