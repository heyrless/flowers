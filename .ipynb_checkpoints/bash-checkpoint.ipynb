{
 "cells": [
  {
   "cell_type": "code",
   "execution_count": 1,
   "metadata": {},
   "outputs": [
    {
     "name": "stdout",
     "output_type": "stream",
     "text": [
      "pi\n"
     ]
    }
   ],
   "source": [
    "whoami"
   ]
  },
  {
   "cell_type": "code",
   "execution_count": 2,
   "metadata": {},
   "outputs": [
    {
     "name": "stdout",
     "output_type": "stream",
     "text": [
      "flowers_bot.py     make_th_plot.py  relay.py        Untitled.ipynb\n",
      "humidity_relay.py  pop_db.py        ssh             webcam_timelapse.py\n",
      "launcher.sh        README.md        tutorial.ipynb  wpa_supplicant.conf\n"
     ]
    }
   ],
   "source": [
    "ls\n"
   ]
  },
  {
   "cell_type": "code",
   "execution_count": 3,
   "metadata": {},
   "outputs": [
    {
     "name": "stdout",
     "output_type": "stream",
     "text": [
      "remote: Counting objects: 16, done.        \n",
      "remote: Compressing objects: 100% (13/13), done.        \n",
      "remote: Total 16 (delta 9), reused 8 (delta 1), pack-reused 0        \n",
      "Unpacking objects: 100% (16/16), done.\n",
      "From https://github.com/dzanaga/flowers\n",
      "   ec2b36a..39063b3  master     -> origin/master\n",
      "Updating ec2b36a..39063b3\n",
      "Fast-forward\n",
      " .gitignore                                   |  6 +++\n",
      " .ipynb_checkpoints/launcher2-checkpoint.sh   |  3 --\n",
      " .ipynb_checkpoints/tutorial-checkpoint.ipynb | 71 ++++++++++++++++++++++++----\n",
      " launcher2.sh                                 |  3 --\n",
      " tutorial.ipynb                               |  8 ++--\n",
      " webcam.sh                                    |  9 ++++\n",
      " webcam_timelapse.sh                          | 11 +++++\n",
      " 7 files changed, 92 insertions(+), 19 deletions(-)\n",
      " create mode 100644 .gitignore\n",
      " delete mode 100644 .ipynb_checkpoints/launcher2-checkpoint.sh\n",
      " delete mode 100644 launcher2.sh\n",
      " create mode 100644 webcam.sh\n",
      " create mode 100644 webcam_timelapse.sh\n"
     ]
    }
   ],
   "source": [
    "git pull"
   ]
  },
  {
   "cell_type": "code",
   "execution_count": 4,
   "metadata": {},
   "outputs": [
    {
     "name": "stdout",
     "output_type": "stream",
     "text": [
      "flowers_bot.py     pop_db.py  tutorial.ipynb       webcam_timelapse.sh\n",
      "humidity_relay.py  README.md  Untitled.ipynb       wpa_supplicant.conf\n",
      "launcher.sh        relay.py   webcam.sh\n",
      "make_th_plot.py    ssh        webcam_timelapse.py\n"
     ]
    }
   ],
   "source": [
    "ls"
   ]
  },
  {
   "cell_type": "code",
   "execution_count": 5,
   "metadata": {},
   "outputs": [],
   "source": [
    "mkdir webcam"
   ]
  },
  {
   "cell_type": "code",
   "execution_count": 6,
   "metadata": {},
   "outputs": [
    {
     "name": "stdout",
     "output_type": "stream",
     "text": [
      "flowers_bot.py     pop_db.py  tutorial.ipynb  webcam_timelapse.py\n",
      "humidity_relay.py  README.md  Untitled.ipynb  webcam_timelapse.sh\n",
      "launcher.sh        relay.py   webcam          wpa_supplicant.conf\n",
      "make_th_plot.py    ssh        webcam.sh\n"
     ]
    }
   ],
   "source": [
    "ls"
   ]
  },
  {
   "cell_type": "code",
   "execution_count": 7,
   "metadata": {},
   "outputs": [
    {
     "name": "stdout",
     "output_type": "stream",
     "text": [
      "Cloning into 'Adafruit_Python_DHT'...\n",
      "remote: Counting objects: 249, done.        \n",
      "remote: Total 249 (delta 0), reused 0 (delta 0), pack-reused 249        \n",
      "Receiving objects: 100% (249/249), 77.01 KiB | 0 bytes/s, done.\n",
      "Resolving deltas: 100% (142/142), done.\n"
     ]
    }
   ],
   "source": [
    "git clone https://github.com/adafruit/Adafruit_Python_DHT.git"
   ]
  },
  {
   "cell_type": "code",
   "execution_count": 8,
   "metadata": {},
   "outputs": [],
   "source": [
    "cd Adafruit_Python_DHT"
   ]
  },
  {
   "cell_type": "code",
   "execution_count": 9,
   "metadata": {},
   "outputs": [
    {
     "name": "stdout",
     "output_type": "stream",
     "text": [
      "running install\n",
      "running bdist_egg\n",
      "running egg_info\n",
      "creating Adafruit_DHT.egg-info\n",
      "writing top-level names to Adafruit_DHT.egg-info/top_level.txt\n",
      "writing Adafruit_DHT.egg-info/PKG-INFO\n",
      "writing dependency_links to Adafruit_DHT.egg-info/dependency_links.txt\n",
      "writing manifest file 'Adafruit_DHT.egg-info/SOURCES.txt'\n",
      "reading manifest file 'Adafruit_DHT.egg-info/SOURCES.txt'\n",
      "writing manifest file 'Adafruit_DHT.egg-info/SOURCES.txt'\n",
      "installing library code to build/bdist.linux-armv7l/egg\n",
      "running install_lib\n",
      "running build_py\n",
      "creating build\n",
      "creating build/lib.linux-armv7l-3.5\n",
      "creating build/lib.linux-armv7l-3.5/Adafruit_DHT\n",
      "copying Adafruit_DHT/Beaglebone_Black.py -> build/lib.linux-armv7l-3.5/Adafruit_DHT\n",
      "copying Adafruit_DHT/Test.py -> build/lib.linux-armv7l-3.5/Adafruit_DHT\n",
      "copying Adafruit_DHT/common.py -> build/lib.linux-armv7l-3.5/Adafruit_DHT\n",
      "copying Adafruit_DHT/platform_detect.py -> build/lib.linux-armv7l-3.5/Adafruit_DHT\n",
      "copying Adafruit_DHT/__init__.py -> build/lib.linux-armv7l-3.5/Adafruit_DHT\n",
      "copying Adafruit_DHT/Raspberry_Pi_2.py -> build/lib.linux-armv7l-3.5/Adafruit_DHT\n",
      "copying Adafruit_DHT/Raspberry_Pi.py -> build/lib.linux-armv7l-3.5/Adafruit_DHT\n",
      "running build_ext\n",
      "building 'Adafruit_DHT.Raspberry_Pi_2_Driver' extension\n",
      "creating build/temp.linux-armv7l-3.5\n",
      "creating build/temp.linux-armv7l-3.5/source\n",
      "creating build/temp.linux-armv7l-3.5/source/Raspberry_Pi_2\n",
      "arm-linux-gnueabihf-gcc -pthread -DNDEBUG -g -fwrapv -O2 -Wall -Wstrict-prototypes -g -fdebug-prefix-map=/build/python3.5-RUbMX3/python3.5-3.5.3=. -fstack-protector-strong -Wformat -Werror=format-security -Wdate-time -D_FORTIFY_SOURCE=2 -fPIC -I/home/pi/.venv/jns/include -I/usr/include/python3.5m -c source/_Raspberry_Pi_2_Driver.c -o build/temp.linux-armv7l-3.5/source/_Raspberry_Pi_2_Driver.o -std=gnu99\n",
      "arm-linux-gnueabihf-gcc -pthread -DNDEBUG -g -fwrapv -O2 -Wall -Wstrict-prototypes -g -fdebug-prefix-map=/build/python3.5-RUbMX3/python3.5-3.5.3=. -fstack-protector-strong -Wformat -Werror=format-security -Wdate-time -D_FORTIFY_SOURCE=2 -fPIC -I/home/pi/.venv/jns/include -I/usr/include/python3.5m -c source/common_dht_read.c -o build/temp.linux-armv7l-3.5/source/common_dht_read.o -std=gnu99\n",
      "arm-linux-gnueabihf-gcc -pthread -DNDEBUG -g -fwrapv -O2 -Wall -Wstrict-prototypes -g -fdebug-prefix-map=/build/python3.5-RUbMX3/python3.5-3.5.3=. -fstack-protector-strong -Wformat -Werror=format-security -Wdate-time -D_FORTIFY_SOURCE=2 -fPIC -I/home/pi/.venv/jns/include -I/usr/include/python3.5m -c source/Raspberry_Pi_2/pi_2_dht_read.c -o build/temp.linux-armv7l-3.5/source/Raspberry_Pi_2/pi_2_dht_read.o -std=gnu99\n",
      "arm-linux-gnueabihf-gcc -pthread -DNDEBUG -g -fwrapv -O2 -Wall -Wstrict-prototypes -g -fdebug-prefix-map=/build/python3.5-RUbMX3/python3.5-3.5.3=. -fstack-protector-strong -Wformat -Werror=format-security -Wdate-time -D_FORTIFY_SOURCE=2 -fPIC -I/home/pi/.venv/jns/include -I/usr/include/python3.5m -c source/Raspberry_Pi_2/pi_2_mmio.c -o build/temp.linux-armv7l-3.5/source/Raspberry_Pi_2/pi_2_mmio.o -std=gnu99\n",
      "arm-linux-gnueabihf-gcc -pthread -shared -Wl,-O1 -Wl,-Bsymbolic-functions -Wl,-z,relro -Wl,-z,relro -g -fdebug-prefix-map=/build/python3.5-RUbMX3/python3.5-3.5.3=. -fstack-protector-strong -Wformat -Werror=format-security -Wdate-time -D_FORTIFY_SOURCE=2 build/temp.linux-armv7l-3.5/source/_Raspberry_Pi_2_Driver.o build/temp.linux-armv7l-3.5/source/common_dht_read.o build/temp.linux-armv7l-3.5/source/Raspberry_Pi_2/pi_2_dht_read.o build/temp.linux-armv7l-3.5/source/Raspberry_Pi_2/pi_2_mmio.o -lrt -o build/lib.linux-armv7l-3.5/Adafruit_DHT/Raspberry_Pi_2_Driver.cpython-35m-arm-linux-gnueabihf.so\n",
      "creating build/bdist.linux-armv7l\n",
      "creating build/bdist.linux-armv7l/egg\n",
      "creating build/bdist.linux-armv7l/egg/Adafruit_DHT\n",
      "copying build/lib.linux-armv7l-3.5/Adafruit_DHT/Raspberry_Pi_2_Driver.cpython-35m-arm-linux-gnueabihf.so -> build/bdist.linux-armv7l/egg/Adafruit_DHT\n",
      "copying build/lib.linux-armv7l-3.5/Adafruit_DHT/Beaglebone_Black.py -> build/bdist.linux-armv7l/egg/Adafruit_DHT\n",
      "copying build/lib.linux-armv7l-3.5/Adafruit_DHT/Test.py -> build/bdist.linux-armv7l/egg/Adafruit_DHT\n",
      "copying build/lib.linux-armv7l-3.5/Adafruit_DHT/common.py -> build/bdist.linux-armv7l/egg/Adafruit_DHT\n",
      "copying build/lib.linux-armv7l-3.5/Adafruit_DHT/platform_detect.py -> build/bdist.linux-armv7l/egg/Adafruit_DHT\n",
      "copying build/lib.linux-armv7l-3.5/Adafruit_DHT/__init__.py -> build/bdist.linux-armv7l/egg/Adafruit_DHT\n",
      "copying build/lib.linux-armv7l-3.5/Adafruit_DHT/Raspberry_Pi_2.py -> build/bdist.linux-armv7l/egg/Adafruit_DHT\n",
      "copying build/lib.linux-armv7l-3.5/Adafruit_DHT/Raspberry_Pi.py -> build/bdist.linux-armv7l/egg/Adafruit_DHT\n",
      "byte-compiling build/bdist.linux-armv7l/egg/Adafruit_DHT/Beaglebone_Black.py to Beaglebone_Black.cpython-35.pyc\n",
      "byte-compiling build/bdist.linux-armv7l/egg/Adafruit_DHT/Test.py to Test.cpython-35.pyc\n",
      "byte-compiling build/bdist.linux-armv7l/egg/Adafruit_DHT/common.py to common.cpython-35.pyc\n",
      "byte-compiling build/bdist.linux-armv7l/egg/Adafruit_DHT/platform_detect.py to platform_detect.cpython-35.pyc\n",
      "byte-compiling build/bdist.linux-armv7l/egg/Adafruit_DHT/__init__.py to __init__.cpython-35.pyc\n",
      "byte-compiling build/bdist.linux-armv7l/egg/Adafruit_DHT/Raspberry_Pi_2.py to Raspberry_Pi_2.cpython-35.pyc\n",
      "byte-compiling build/bdist.linux-armv7l/egg/Adafruit_DHT/Raspberry_Pi.py to Raspberry_Pi.cpython-35.pyc\n",
      "creating stub loader for Adafruit_DHT/Raspberry_Pi_2_Driver.cpython-35m-arm-linux-gnueabihf.so\n",
      "byte-compiling build/bdist.linux-armv7l/egg/Adafruit_DHT/Raspberry_Pi_2_Driver.py to Raspberry_Pi_2_Driver.cpython-35.pyc\n",
      "creating build/bdist.linux-armv7l/egg/EGG-INFO\n",
      "copying Adafruit_DHT.egg-info/PKG-INFO -> build/bdist.linux-armv7l/egg/EGG-INFO\n",
      "copying Adafruit_DHT.egg-info/SOURCES.txt -> build/bdist.linux-armv7l/egg/EGG-INFO\n",
      "copying Adafruit_DHT.egg-info/dependency_links.txt -> build/bdist.linux-armv7l/egg/EGG-INFO\n",
      "copying Adafruit_DHT.egg-info/top_level.txt -> build/bdist.linux-armv7l/egg/EGG-INFO\n",
      "writing build/bdist.linux-armv7l/egg/EGG-INFO/native_libs.txt\n",
      "zip_safe flag not set; analyzing archive contents...\n",
      "Adafruit_DHT.__pycache__.Raspberry_Pi_2_Driver.cpython-35: module references __file__\n",
      "creating dist\n",
      "creating 'dist/Adafruit_DHT-1.3.2-py3.5-linux-armv7l.egg' and adding 'build/bdist.linux-armv7l/egg' to it\n",
      "removing 'build/bdist.linux-armv7l/egg' (and everything under it)\n",
      "Processing Adafruit_DHT-1.3.2-py3.5-linux-armv7l.egg\n",
      "creating /home/pi/.venv/jns/lib/python3.5/site-packages/Adafruit_DHT-1.3.2-py3.5-linux-armv7l.egg\n",
      "Extracting Adafruit_DHT-1.3.2-py3.5-linux-armv7l.egg to /home/pi/.venv/jns/lib/python3.5/site-packages\n",
      "Adding Adafruit-DHT 1.3.2 to easy-install.pth file\n",
      "\n",
      "Installed /home/pi/.venv/jns/lib/python3.5/site-packages/Adafruit_DHT-1.3.2-py3.5-linux-armv7l.egg\n",
      "Processing dependencies for Adafruit-DHT==1.3.2\n",
      "Finished processing dependencies for Adafruit-DHT==1.3.2\n"
     ]
    }
   ],
   "source": [
    "python setup.py install"
   ]
  },
  {
   "cell_type": "code",
   "execution_count": 10,
   "metadata": {},
   "outputs": [],
   "source": [
    "cd .."
   ]
  },
  {
   "cell_type": "code",
   "execution_count": 12,
   "metadata": {},
   "outputs": [],
   "source": [
    "rm -rf Adafruit_Python_DHT"
   ]
  },
  {
   "cell_type": "code",
   "execution_count": 13,
   "metadata": {},
   "outputs": [
    {
     "name": "stdout",
     "output_type": "stream",
     "text": [
      "Reading package lists... Done\n",
      "Building dependency tree        \n",
      "Reading state information... Done\n",
      "python-rpi.gpio is already the newest version (0.6.3~stretch-1).\n",
      "The following NEW packages will be installed:\n",
      "  python3-rpi.gpio\n",
      "0 upgraded, 1 newly installed, 0 to remove and 0 not upgraded.\n",
      "Need to get 23.0 kB of archives.\n",
      "After this operation, 74.8 kB of additional disk space will be used.\n",
      "Do you want to continue? [Y/n] \n"
     ]
    }
   ],
   "source": [
    "sudo apt-get install python3-rpi.gpio"
   ]
  },
  {
   "cell_type": "code",
   "execution_count": 14,
   "metadata": {},
   "outputs": [
    {
     "name": "stdout",
     "output_type": "stream",
     "text": [
      "bash: y: command not found\n"
     ]
    },
    {
     "ename": "",
     "evalue": "127",
     "execution_count": 14,
     "output_type": "error",
     "traceback": []
    }
   ],
   "source": [
    "y"
   ]
  },
  {
   "cell_type": "code",
   "execution_count": 4,
   "metadata": {},
   "outputs": [
    {
     "name": "stdout",
     "output_type": "stream",
     "text": [
      "\u001b[1m--- Opening /dev/video0...\n",
      "\u001b[0m\u001b[0mTrying source module v4l2...\n",
      "\u001b[0m\u001b[0m/dev/video0 opened.\n",
      "\u001b[0m\u001b[0mNo input was specified, using the first.\n",
      "\u001b[0m\u001b[0mAdjusting resolution from 384x288 to 352x288.\n",
      "\u001b[0m\u001b[1m--- Capturing frame...\n",
      "\u001b[0m\u001b[0mSkipping 60 frames...\n",
      "\u001b[0m\u001b[0mCapturing 1 frames...\n",
      "\u001b[0m\u001b[0mCaptured 61 frames in 2.06 seconds. (29 fps)\n",
      "\u001b[0m\u001b[1m--- Processing captured image...\n",
      "\u001b[0m\u001b[0mWriting JPEG image to '/home/pi/flowers/webcam/pic.jpg'.\n",
      "\u001b[0m"
     ]
    }
   ],
   "source": [
    "fswebcam -S 60 /home/pi/flowers/webcam/pic.jpg"
   ]
  },
  {
   "cell_type": "code",
   "execution_count": 2,
   "metadata": {},
   "outputs": [
    {
     "name": "stdout",
     "output_type": "stream",
     "text": [
      "Reading package lists... Done\n",
      "Building dependency tree        \n",
      "Reading state information... Done\n",
      "The following NEW packages will be installed:\n",
      "  fswebcam\n",
      "0 upgraded, 1 newly installed, 0 to remove and 0 not upgraded.\n",
      "Need to get 44.0 kB of archives.\n",
      "After this operation, 105 kB of additional disk space will be used.\n",
      "Get:1 http://mirrordirector.raspbian.org/raspbian stretch/main armhf fswebcam armhf 20140113-1 [44.0 kB]\n",
      "Fetched 44.0 kB in 0s (191 kB/s)    \n",
      "debconf: unable to initialize frontend: Dialog\n",
      "debconf: (Dialog frontend will not work on a dumb terminal, an emacs shell buffer, or without a controlling terminal.)\n",
      "debconf: falling back to frontend: Readline\n",
      "Selecting previously unselected package fswebcam.\n",
      "(Reading database ... 85232 files and directories currently installed.)\n",
      "Preparing to unpack .../fswebcam_20140113-1_armhf.deb ...\n",
      "Unpacking fswebcam (20140113-1) ...\n",
      "Setting up fswebcam (20140113-1) ...\n",
      "Processing triggers for man-db (2.7.6.1-2) ...\n"
     ]
    }
   ],
   "source": [
    "sudo apt-get install fswebcam"
   ]
  },
  {
   "cell_type": "code",
   "execution_count": 3,
   "metadata": {},
   "outputs": [
    {
     "name": "stdout",
     "output_type": "stream",
     "text": [
      "Reading package lists... Done\n",
      "Building dependency tree       \n",
      "Reading state information... Done\n",
      "fswebcam is already the newest version (20140113-1).\n",
      "0 upgraded, 0 newly installed, 0 to remove and 0 not upgraded.\n"
     ]
    }
   ],
   "source": [
    "sudo apt-get install fswebcam"
   ]
  },
  {
   "cell_type": "code",
   "execution_count": null,
   "metadata": {},
   "outputs": [
    {
     "name": "stdout",
     "output_type": "stream",
     "text": [
      "Reading package lists... Done\n",
      "Building dependency tree       \n",
      "Reading state information... Done\n",
      "The following additional packages will be installed:\n",
      "  ffmpeg libaacs0 libass5 libasyncns0 libavc1394-0 libavcodec57 libavdevice57\n",
      "  libavfilter6 libavformat57 libavresample3 libavutil55 libbdplus0 libbluray1\n",
      "  libbs2b0 libcaca0 libcdio-cdda1 libcdio-paranoia1 libcdio13 libchromaprint1\n",
      "  libdc1394-22 libebur128-1 libegl1-mesa libflac8 libflite1 libgbm1 libgme0\n",
      "  libgsm1 libiec61883-0 libjack-jackd2-0 libmp3lame0 libmpg123-0 libogg0\n",
      "  libopenal-data libopenal1 libopencv-core2.4v5 libopencv-imgproc2.4v5\n",
      "  libopenmpt0 libopus0 libpostproc54 libpulse0 libraw1394-11 librubberband2\n",
      "  libsdl2-2.0-0 libshine3 libsnappy1v5 libsndfile1 libsndio6.1 libsoxr0\n",
      "  libspeex1 libssh-gcrypt-4 libswresample2 libswscale4 libtheora0 libtwolame0\n",
      "  libva-drm1 libva-x11-1 libva1 libvdpau-va-gl1 libvdpau1 libvorbis0a\n",
      "  libvorbisenc2 libvorbisfile3 libvpx4 libwavpack1 libwayland-client0\n",
      "  libwayland-cursor0 libwayland-egl1-mesa libwayland-server0 libx264-148\n",
      "  libx265-95 libxcb-xfixes0 libxkbcommon0 libxvidcore4 libzvbi-common libzvbi0\n",
      "  mesa-va-drivers mesa-vdpau-drivers va-driver-all vdpau-driver-all\n",
      "Suggested packages:\n",
      "  ffmpeg-doc libbluray-bdj alsa-base jackd2 libportaudio2 opus-tools\n",
      "  pulseaudio libraw1394-doc sndiod speex\n",
      "The following NEW packages will be installed:\n",
      "  ffmpeg libaacs0 libass5 libasyncns0 libav-tools libavc1394-0 libavcodec57\n",
      "  libavdevice57 libavfilter6 libavformat57 libavresample3 libavutil55\n",
      "  libbdplus0 libbluray1 libbs2b0 libcaca0 libcdio-cdda1 libcdio-paranoia1\n",
      "  libcdio13 libchromaprint1 libdc1394-22 libebur128-1 libegl1-mesa libflac8\n",
      "  libflite1 libgbm1 libgme0 libgsm1 libiec61883-0 libjack-jackd2-0 libmp3lame0\n",
      "  libmpg123-0 libogg0 libopenal-data libopenal1 libopencv-core2.4v5\n",
      "  libopencv-imgproc2.4v5 libopenmpt0 libopus0 libpostproc54 libpulse0\n",
      "  libraw1394-11 librubberband2 libsdl2-2.0-0 libshine3 libsnappy1v5\n",
      "  libsndfile1 libsndio6.1 libsoxr0 libspeex1 libssh-gcrypt-4 libswresample2\n",
      "  libswscale4 libtheora0 libtwolame0 libva-drm1 libva-x11-1 libva1\n",
      "  libvdpau-va-gl1 libvdpau1 libvorbis0a libvorbisenc2 libvorbisfile3 libvpx4\n",
      "  libwavpack1 libwayland-client0 libwayland-cursor0 libwayland-egl1-mesa\n",
      "  libwayland-server0 libx264-148 libx265-95 libxcb-xfixes0 libxkbcommon0\n",
      "  libxvidcore4 libzvbi-common libzvbi0 mesa-va-drivers mesa-vdpau-drivers\n",
      "  va-driver-all vdpau-driver-all\n",
      "0 upgraded, 80 newly installed, 0 to remove and 0 not upgraded.\n",
      "Need to get 31.9 MB of archives.\n",
      "After this operation, 93.4 MB of additional disk space will be used.\n"
     ]
    }
   ],
   "source": [
    "sudo apt-get install libav-tools"
   ]
  },
  {
   "cell_type": "code",
   "execution_count": 1,
   "metadata": {},
   "outputs": [
    {
     "name": "stdout",
     "output_type": "stream",
     "text": [
      "bash.ipynb           humidity_relay.py  README.md       webcam\n",
      "bot_token.config     launcher.sh        relay.py        webcam.sh\n",
      "control_airflow.py   make_th_plot.py    relay.pyc       webcam_timelapse.py\n",
      "control_humidity.py  pop_db.py          ssh             webcam_timelapse.sh\n",
      "flowers_bot.py       __pycache__        tutorial.ipynb  wpa_supplicant.conf\n"
     ]
    }
   ],
   "source": [
    "./webcam_timelapse.sh"
   ]
  },
  {
   "cell_type": "code",
   "execution_count": 1,
   "metadata": {},
   "outputs": [
    {
     "name": "stdout",
     "output_type": "stream",
     "text": [
      "bash.ipynb           humidity_relay.py  reboot.sh       webcam.sh\n",
      "bot_token.config     launcher.sh        relay.py        webcam_timelapse.py\n",
      "control_airflow.py   make_th_plot.py    relay.pyc       webcam_timelapse.sh\n",
      "control_humidity.py  pop_db.py          ssh             wpa_supplicant.conf\n",
      "flowers_bot.py       __pycache__        tutorial.ipynb\n",
      "gitsync.sh           README.md          webcam\n"
     ]
    }
   ],
   "source": [
    "ls"
   ]
  },
  {
   "cell_type": "code",
   "execution_count": 2,
   "metadata": {},
   "outputs": [],
   "source": [
    "cd /home/pi/flowers/webcam/timelapse"
   ]
  },
  {
   "cell_type": "code",
   "execution_count": 3,
   "metadata": {},
   "outputs": [
    {
     "name": "stdout",
     "output_type": "stream",
     "text": [
      "2018-02-28_1339.jpg  2018-02-28_2048.jpg  2018-03-01_0914.jpg\n",
      "2018-02-28_1341.jpg  2018-02-28_2050.jpg  2018-03-01_0916.jpg\n",
      "2018-02-28_1343.jpg  2018-02-28_2053.jpg  2018-03-01_0918.jpg\n",
      "2018-02-28_1345.jpg  2018-02-28_2055.jpg  2018-03-01_0920.jpg\n",
      "2018-02-28_1347.jpg  2018-02-28_2057.jpg  2018-03-01_0922.jpg\n",
      "2018-02-28_1349.jpg  2018-02-28_2059.jpg  2018-03-01_0924.jpg\n",
      "2018-02-28_1351.jpg  2018-02-28_2101.jpg  2018-03-01_0926.jpg\n",
      "2018-02-28_1353.jpg  2018-02-28_2103.jpg  2018-03-01_0928.jpg\n",
      "2018-02-28_1355.jpg  2018-02-28_2105.jpg  2018-03-01_0930.jpg\n",
      "2018-02-28_1357.jpg  2018-02-28_2107.jpg  2018-03-01_0933.jpg\n",
      "2018-02-28_1359.jpg  2018-02-28_2109.jpg  2018-03-01_0935.jpg\n",
      "2018-02-28_1401.jpg  2018-02-28_2111.jpg  2018-03-01_0937.jpg\n",
      "2018-02-28_1402.jpg  2018-02-28_2113.jpg  2018-03-01_0939.jpg\n",
      "2018-02-28_1403.jpg  2018-02-28_2115.jpg  2018-03-01_0941.jpg\n",
      "2018-02-28_1404.jpg  2018-02-28_2117.jpg  2018-03-01_0943.jpg\n",
      "2018-02-28_1405.jpg  2018-02-28_2119.jpg  2018-03-01_0945.jpg\n",
      "2018-02-28_1406.jpg  2018-02-28_2121.jpg  2018-03-01_0947.jpg\n",
      "2018-02-28_1408.jpg  2018-02-28_2123.jpg  2018-03-01_0949.jpg\n",
      "2018-02-28_1410.jpg  2018-02-28_2125.jpg  2018-03-01_0951.jpg\n",
      "2018-02-28_1510.jpg  2018-02-28_2127.jpg  2018-03-01_0953.jpg\n",
      "2018-02-28_1513.jpg  2018-02-28_2129.jpg  2018-03-01_0955.jpg\n",
      "2018-02-28_1515.jpg  2018-02-28_2131.jpg  2018-03-01_0957.jpg\n",
      "2018-02-28_1517.jpg  2018-02-28_2134.jpg  2018-03-01_0959.jpg\n",
      "2018-02-28_1519.jpg  2018-02-28_2136.jpg  2018-03-01_1000.jpg\n",
      "2018-02-28_1522.jpg  2018-02-28_2138.jpg  2018-03-01_1002.jpg\n",
      "2018-02-28_1524.jpg  2018-02-28_2140.jpg  2018-03-01_1004.jpg\n",
      "2018-02-28_1526.jpg  2018-02-28_2142.jpg  2018-03-01_1006.jpg\n",
      "2018-02-28_1528.jpg  2018-02-28_2144.jpg  2018-03-01_1008.jpg\n",
      "2018-02-28_1530.jpg  2018-02-28_2146.jpg  2018-03-01_1010.jpg\n",
      "2018-02-28_1532.jpg  2018-02-28_2148.jpg  2018-03-01_1012.jpg\n",
      "2018-02-28_1534.jpg  2018-02-28_2150.jpg  2018-03-01_1014.jpg\n",
      "2018-02-28_1536.jpg  2018-02-28_2152.jpg  2018-03-01_1016.jpg\n",
      "2018-02-28_1538.jpg  2018-02-28_2154.jpg  2018-03-01_1018.jpg\n",
      "2018-02-28_1540.jpg  2018-02-28_2156.jpg  2018-03-01_1020.jpg\n",
      "2018-02-28_1542.jpg  2018-02-28_2158.jpg  2018-03-01_1022.jpg\n",
      "2018-02-28_1544.jpg  2018-02-28_2200.jpg  2018-03-01_1024.jpg\n",
      "2018-02-28_1546.jpg  2018-02-28_2202.jpg  2018-03-01_1026.jpg\n",
      "2018-02-28_1548.jpg  2018-02-28_2204.jpg  2018-03-01_1028.jpg\n",
      "2018-02-28_1550.jpg  2018-02-28_2206.jpg  2018-03-01_1031.jpg\n",
      "2018-02-28_1552.jpg  2018-02-28_2208.jpg  2018-03-01_1033.jpg\n",
      "2018-02-28_1554.jpg  2018-02-28_2210.jpg  2018-03-01_1035.jpg\n",
      "2018-02-28_1556.jpg  2018-02-28_2213.jpg  2018-03-01_1037.jpg\n",
      "2018-02-28_1558.jpg  2018-02-28_2215.jpg  2018-03-01_1039.jpg\n",
      "2018-02-28_1601.jpg  2018-02-28_2217.jpg  2018-03-01_1041.jpg\n",
      "2018-02-28_1603.jpg  2018-02-28_2219.jpg  2018-03-01_1043.jpg\n",
      "2018-02-28_1605.jpg  2018-02-28_2221.jpg  2018-03-01_1045.jpg\n",
      "2018-02-28_1607.jpg  2018-02-28_2223.jpg  2018-03-01_1047.jpg\n",
      "2018-02-28_1609.jpg  2018-02-28_2225.jpg  2018-03-01_1049.jpg\n",
      "2018-02-28_1611.jpg  2018-02-28_2227.jpg  2018-03-01_1051.jpg\n",
      "2018-02-28_1613.jpg  2018-02-28_2229.jpg  2018-03-01_1053.jpg\n",
      "2018-02-28_1615.jpg  2018-02-28_2231.jpg  2018-03-01_1055.jpg\n",
      "2018-02-28_1617.jpg  2018-02-28_2233.jpg  2018-03-01_1057.jpg\n",
      "2018-02-28_1619.jpg  2018-02-28_2235.jpg  2018-03-01_1059.jpg\n",
      "2018-02-28_1621.jpg  2018-02-28_2237.jpg  2018-03-01_1100.jpg\n",
      "2018-02-28_1623.jpg  2018-02-28_2239.jpg  2018-03-01_1102.jpg\n",
      "2018-02-28_1625.jpg  2018-02-28_2241.jpg  2018-03-01_1104.jpg\n",
      "2018-02-28_1627.jpg  2018-02-28_2243.jpg  2018-03-01_1106.jpg\n",
      "2018-02-28_1629.jpg  2018-02-28_2245.jpg  2018-03-01_1108.jpg\n",
      "2018-02-28_1631.jpg  2018-02-28_2247.jpg  2018-03-01_1110.jpg\n",
      "2018-02-28_1633.jpg  2018-02-28_2249.jpg  2018-03-01_1112.jpg\n",
      "2018-02-28_1635.jpg  2018-02-28_2251.jpg  2018-03-01_1114.jpg\n",
      "2018-02-28_1637.jpg  2018-02-28_2254.jpg  2018-03-01_1116.jpg\n",
      "2018-02-28_1639.jpg  2018-02-28_2256.jpg  2018-03-01_1118.jpg\n",
      "2018-02-28_1642.jpg  2018-02-28_2258.jpg  2018-03-01_1120.jpg\n",
      "2018-02-28_1644.jpg  2018-02-28_2300.jpg  2018-03-01_1122.jpg\n",
      "2018-02-28_1646.jpg  2018-02-28_2302.jpg  2018-03-01_1124.jpg\n",
      "2018-02-28_1648.jpg  2018-02-28_2304.jpg  2018-03-01_1126.jpg\n",
      "2018-02-28_1650.jpg  2018-02-28_2306.jpg  2018-03-01_1128.jpg\n",
      "2018-02-28_1652.jpg  2018-02-28_2308.jpg  2018-03-01_1131.jpg\n",
      "2018-02-28_1654.jpg  2018-02-28_2310.jpg  2018-03-01_1133.jpg\n",
      "2018-02-28_1656.jpg  2018-02-28_2312.jpg  2018-03-01_1135.jpg\n",
      "2018-02-28_1658.jpg  2018-02-28_2314.jpg  2018-03-01_1137.jpg\n",
      "2018-02-28_1700.jpg  2018-02-28_2316.jpg  2018-03-01_1139.jpg\n",
      "2018-02-28_1702.jpg  2018-02-28_2319.jpg  2018-03-01_1141.jpg\n",
      "2018-02-28_1704.jpg  2018-02-28_2321.jpg  2018-03-01_1143.jpg\n",
      "2018-02-28_1706.jpg  2018-02-28_2323.jpg  2018-03-01_1145.jpg\n",
      "2018-02-28_1708.jpg  2018-02-28_2325.jpg  2018-03-01_1147.jpg\n",
      "2018-02-28_1710.jpg  2018-02-28_2327.jpg  2018-03-01_1149.jpg\n",
      "2018-02-28_1712.jpg  2018-02-28_2329.jpg  2018-03-01_1151.jpg\n",
      "2018-02-28_1714.jpg  2018-02-28_2331.jpg  2018-03-01_1153.jpg\n",
      "2018-02-28_1716.jpg  2018-02-28_2333.jpg  2018-03-01_1155.jpg\n",
      "2018-02-28_1718.jpg  2018-02-28_2336.jpg  2018-03-01_1157.jpg\n",
      "2018-02-28_1720.jpg  2018-02-28_2338.jpg  2018-03-01_1159.jpg\n",
      "2018-02-28_1723.jpg  2018-02-28_2340.jpg  2018-03-01_1200.jpg\n",
      "2018-02-28_1725.jpg  2018-02-28_2342.jpg  2018-03-01_1202.jpg\n",
      "2018-02-28_1727.jpg  2018-02-28_2344.jpg  2018-03-01_1204.jpg\n",
      "2018-02-28_1729.jpg  2018-02-28_2346.jpg  2018-03-01_1206.jpg\n",
      "2018-02-28_1731.jpg  2018-02-28_2348.jpg  2018-03-01_1208.jpg\n",
      "2018-02-28_1733.jpg  2018-02-28_2351.jpg  2018-03-01_1210.jpg\n",
      "2018-02-28_1735.jpg  2018-02-28_2353.jpg  2018-03-01_1212.jpg\n",
      "2018-02-28_1737.jpg  2018-02-28_2355.jpg  2018-03-01_1214.jpg\n",
      "2018-02-28_1739.jpg  2018-02-28_2357.jpg  2018-03-01_1216.jpg\n",
      "2018-02-28_1741.jpg  2018-02-28_2359.jpg  2018-03-01_1218.jpg\n",
      "2018-02-28_1743.jpg  2018-03-01_0818.jpg  2018-03-01_1220.jpg\n",
      "2018-02-28_1745.jpg  2018-03-01_0820.jpg  2018-03-01_1222.jpg\n",
      "2018-02-28_1747.jpg  2018-03-01_0822.jpg  2018-03-01_1224.jpg\n",
      "2018-02-28_1749.jpg  2018-03-01_0824.jpg  2018-03-01_1226.jpg\n",
      "2018-02-28_1751.jpg  2018-03-01_0826.jpg  2018-03-01_1228.jpg\n",
      "2018-02-28_1752.jpg  2018-03-01_0828.jpg  2018-03-01_1231.jpg\n",
      "2018-02-28_1753.jpg  2018-03-01_0830.jpg  2018-03-01_1235.jpg\n",
      "2018-02-28_1755.jpg  2018-03-01_0832.jpg  2018-03-01_1237.jpg\n",
      "2018-02-28_1757.jpg  2018-03-01_0835.jpg  2018-03-01_1239.jpg\n",
      "2018-02-28_1759.jpg  2018-03-01_0837.jpg  2018-03-01_1241.jpg\n",
      "2018-02-28_1802.jpg  2018-03-01_0839.jpg  2018-03-01_1243.jpg\n",
      "2018-02-28_1804.jpg  2018-03-01_0841.jpg  2018-03-01_1245.jpg\n",
      "2018-02-28_1806.jpg  2018-03-01_0843.jpg  2018-03-01_1247.jpg\n",
      "2018-02-28_1808.jpg  2018-03-01_0845.jpg  2018-03-01_1250.jpg\n",
      "2018-02-28_1810.jpg  2018-03-01_0847.jpg  2018-03-01_1252.jpg\n",
      "2018-02-28_1812.jpg  2018-03-01_0849.jpg  2018-03-01_1254.jpg\n",
      "2018-02-28_1814.jpg  2018-03-01_0851.jpg  2018-03-01_1256.jpg\n",
      "2018-02-28_2019.jpg  2018-03-01_0853.jpg  2018-03-01_1257.jpg\n",
      "2018-02-28_2028.jpg  2018-03-01_0855.jpg  2018-03-01_1259.jpg\n",
      "2018-02-28_2030.jpg  2018-03-01_0857.jpg  2018-03-01_1301.jpg\n",
      "2018-02-28_2032.jpg  2018-03-01_0859.jpg  2018-03-01_1303.jpg\n",
      "2018-02-28_2034.jpg  2018-03-01_0900.jpg  2018-03-01_1305.jpg\n",
      "2018-02-28_2036.jpg  2018-03-01_0902.jpg  2018-03-01_1307.jpg\n",
      "2018-02-28_2038.jpg  2018-03-01_0904.jpg  2018-03-01_1309.jpg\n",
      "2018-02-28_2040.jpg  2018-03-01_0906.jpg  2018-03-01_1311.jpg\n",
      "2018-02-28_2042.jpg  2018-03-01_0908.jpg  2018-03-01_1313.jpg\n",
      "2018-02-28_2044.jpg  2018-03-01_0910.jpg  2018-03-01_1315.jpg\n",
      "2018-02-28_2046.jpg  2018-03-01_0912.jpg  2018-03-01_1317.jpg\n"
     ]
    }
   ],
   "source": [
    "ls"
   ]
  },
  {
   "cell_type": "code",
   "execution_count": 4,
   "metadata": {},
   "outputs": [
    {
     "name": "stdout",
     "output_type": "stream",
     "text": [
      "bash: ffmpeg: command not found\n"
     ]
    },
    {
     "ename": "",
     "evalue": "127",
     "execution_count": 4,
     "output_type": "error",
     "traceback": []
    }
   ],
   "source": [
    "ffmpeg -r 200 -f image2 -i 2018-03-01* -vcodec libx264 -crf 25  -pix_fmt yuv420p test.mp4"
   ]
  },
  {
   "cell_type": "code",
   "execution_count": 6,
   "metadata": {},
   "outputs": [],
   "source": [
    "a=1\n",
    "for i in 2018-03-01*.jpg; do\n",
    "  new=$(printf \"/home/pi/flowers/webcam/test/%04d.jpg\" \"$a\") #04 pad to length of 4\n",
    "  cp -i \"$i\" \"$new\"\n",
    "  let a=a+1\n",
    "done"
   ]
  },
  {
   "cell_type": "code",
   "execution_count": 3,
   "metadata": {},
   "outputs": [],
   "source": [
    "cd /home/pi/flowers/webcam/movie"
   ]
  },
  {
   "cell_type": "code",
   "execution_count": null,
   "metadata": {},
   "outputs": [],
   "source": [
    "avconv -r 60 -i %04d.jpg -b:v 1000k test.mp4"
   ]
  },
  {
   "cell_type": "code",
   "execution_count": 3,
   "metadata": {},
   "outputs": [
    {
     "name": "stdout",
     "output_type": "stream",
     "text": [
      "ffmpeg version 3.2.10-1~deb9u1+rpt1 Copyright (c) 2000-2018 the FFmpeg developers\n",
      "  built with gcc 6.3.0 (Raspbian 6.3.0-18+rpi1) 20170516\n",
      "  configuration: --prefix=/usr --extra-version='1~deb9u1+rpt1' --toolchain=hardened --libdir=/usr/lib/arm-linux-gnueabihf --incdir=/usr/include/arm-linux-gnueabihf --enable-gpl --disable-stripping --enable-avresample --enable-avisynth --enable-gnutls --enable-ladspa --enable-libass --enable-libbluray --enable-libbs2b --enable-libcaca --enable-libcdio --enable-libebur128 --enable-libflite --enable-libfontconfig --enable-libfreetype --enable-libfribidi --enable-libgme --enable-libgsm --enable-libmp3lame --enable-libopenjpeg --enable-libopenmpt --enable-libopus --enable-libpulse --enable-librubberband --enable-libshine --enable-libsnappy --enable-libsoxr --enable-libspeex --enable-libssh --enable-libtheora --enable-libtwolame --enable-libvorbis --enable-libvpx --enable-libwavpack --enable-libwebp --enable-libx265 --enable-libxvid --enable-libzmq --enable-libzvbi --enable-omx-rpi --enable-mmal --enable-openal --enable-opengl --enable-sdl2 --enable-libdc1394 --enable-libiec61883 --enable-chromaprint --enable-frei0r --enable-libopencv --enable-libx264 --enable-shared\n",
      "  libavutil      55. 34.101 / 55. 34.101\n",
      "  libavcodec     57. 64.101 / 57. 64.101\n",
      "  libavformat    57. 56.101 / 57. 56.101\n",
      "  libavdevice    57.  1.100 / 57.  1.100\n",
      "  libavfilter     6. 65.100 /  6. 65.100\n",
      "  libavresample   3.  1.  0 /  3.  1.  0\n",
      "  libswscale      4.  2.100 /  4.  2.100\n",
      "  libswresample   2.  3.100 /  2.  3.100\n",
      "  libpostproc    54.  1.100 / 54.  1.100\n",
      "Input #0, image2, from '%04d.jpg':\n",
      "  Duration: 00:00:07.12, start: 0.000000, bitrate: N/A\n",
      "    Stream #0:0: Video: mjpeg, yuvj444p(pc, bt470bg/unknown/unknown), 352x288 [SAR 96:96 DAR 11:9], 25 fps, 25 tbr, 25 tbn, 25 tbc\n",
      "No pixel format specified, yuvj444p for H.264 encoding chosen.\n",
      "Use -pix_fmt yuv420p for compatibility with outdated media players.\n",
      "[libx264 @ 0x760650] using SAR=1/1\n",
      "[libx264 @ 0x760650] using cpu capabilities: ARMv6 NEON\n",
      "[libx264 @ 0x760650] profile High 4:4:4 Predictive, level 3.0, 4:4:4 8-bit\n",
      "[libx264 @ 0x760650] 264 - core 148 r2748 97eaef2 - H.264/MPEG-4 AVC codec - Copyleft 2003-2016 - http://www.videolan.org/x264.html - options: cabac=1 ref=3 deblock=1:0:0 analyse=0x3:0x113 me=hex subme=7 psy=1 psy_rd=1.00:0.00 mixed_ref=1 me_range=16 chroma_me=1 trellis=1 8x8dct=1 cqm=0 deadzone=21,11 fast_pskip=1 chroma_qp_offset=4 threads=6 lookahead_threads=1 sliced_threads=0 nr=0 decimate=1 interlaced=0 bluray_compat=0 constrained_intra=0 bframes=3 b_pyramid=2 b_adapt=1 b_bias=0 direct=1 weightb=1 open_gop=0 weightp=2 keyint=250 keyint_min=25 scenecut=40 intra_refresh=0 rc_lookahead=40 rc=crf mbtree=1 crf=23.0 qcomp=0.60 qpmin=0 qpmax=69 qpstep=4 ip_ratio=1.40 aq=1:1.00\n",
      "Output #0, mp4, to 'test2.mp4':\n",
      "  Metadata:\n",
      "    encoder         : Lavf57.56.101\n",
      "    Stream #0:0: Video: h264 (libx264) ([33][0][0][0] / 0x0021), yuvj444p(pc), 352x288 [SAR 96:96 DAR 11:9], q=-1--1, 60 fps, 15360 tbn, 60 tbc\n",
      "    Metadata:\n",
      "      encoder         : Lavc57.64.101 libx264\n",
      "    Side data:\n",
      "      cpb: bitrate max/min/avg: 0/0/0 buffer size: 0 vbv_delay: -1\n",
      "Stream mapping:\n",
      "  Stream #0:0 -> #0:0 (mjpeg (native) -> h264 (libx264))\n",
      "Press [q] to stop, [?] for help\n",
      "Past duration 0.999992 too large\n",
      "    Last message repeated 42 times\n",
      "Past duration 0.999992 too large      0kB time=00:00:00.00 bitrate=N/A dup=1 drop=0 speed=   0x    \n",
      "    Last message repeated 10 times\n",
      "Past duration 0.999992 too large      23kB time=00:00:00.05 bitrate=3745.5kbits/s dup=1 drop=0 speed=0.0487x    \n",
      "    Last message repeated 13 times\n",
      "Past duration 0.999992 too large      51kB time=00:00:00.28 bitrate=1482.6kbits/s dup=1 drop=0 speed=0.182x    \n",
      "    Last message repeated 13 times\n",
      "Past duration 0.999992 too large      78kB time=00:00:00.51 bitrate=1228.8kbits/s dup=1 drop=0 speed=0.245x    \n",
      "    Last message repeated 15 times\n",
      "Past duration 0.999992 too large     104kB time=00:00:00.78 bitrate=1092.0kbits/s dup=1 drop=0 speed=0.289x    \n",
      "    Last message repeated 15 times\n",
      "Past duration 0.999992 too large     134kB time=00:00:01.05 bitrate=1045.9kbits/s dup=1 drop=0 speed=0.321x    \n",
      "    Last message repeated 16 times\n",
      "Past duration 0.999992 too large     164kB time=00:00:01.33 bitrate=1010.5kbits/s dup=1 drop=0 speed=0.351x    \n",
      "    Last message repeated 11 times\n",
      "Past duration 0.999992 too large     188kB time=00:00:01.53 bitrate=1006.1kbits/s dup=1 drop=0 speed=0.353x    \n",
      "    Last message repeated 16 times\n",
      "Past duration 0.999992 too large     218kB time=00:00:01.81 bitrate= 984.7kbits/s dup=1 drop=0 speed=0.37x    \n",
      "    Last message repeated 15 times\n",
      "Past duration 0.999992 too large     246kB time=00:00:02.08 bitrate= 967.9kbits/s dup=1 drop=0 speed=0.382x    \n",
      "frame=  179 fps= 26 q=-1.0 Lsize=     350kB time=00:00:02.93 bitrate= 976.5kbits/s dup=1 drop=0 speed=0.418x    \n",
      "video:347kB audio:0kB subtitle:0kB other streams:0kB global headers:0kB muxing overhead: 0.836150%\n",
      "[libx264 @ 0x760650] frame I:1     Avg QP:29.07  size: 12247\n",
      "[libx264 @ 0x760650] frame P:48    Avg QP:30.04  size:  3166\n",
      "[libx264 @ 0x760650] frame B:130   Avg QP:33.35  size:  1463\n",
      "[libx264 @ 0x760650] consecutive B-frames:  0.6%  5.6%  6.7% 87.2%\n",
      "[libx264 @ 0x760650] mb I  I16..4:  7.1% 66.4% 26.5%\n",
      "[libx264 @ 0x760650] mb P  I16..4:  3.3%  2.4%  0.3%  P16..4: 50.9% 24.5% 11.0%  0.0%  0.0%    skip: 7.5%\n",
      "[libx264 @ 0x760650] mb B  I16..4:  1.2%  0.9%  0.0%  B16..8: 38.9% 13.6%  2.6%  direct: 9.4%  skip:33.4%  L0:48.9% L1:43.3% BI: 7.7%\n",
      "[libx264 @ 0x760650] 8x8 transform intra:45.5% inter:73.8%\n",
      "[libx264 @ 0x760650] coded y,u,v intra: 35.1% 26.5% 24.4% inter: 36.9% 16.5% 29.3%\n",
      "[libx264 @ 0x760650] i16 v,h,dc,p: 26% 11%  7% 56%\n",
      "[libx264 @ 0x760650] i8 v,h,dc,ddl,ddr,vr,hd,vl,hu: 14% 12% 27%  6%  9%  7%  9%  6%  9%\n",
      "[libx264 @ 0x760650] i4 v,h,dc,ddl,ddr,vr,hd,vl,hu: 12% 19% 22%  7% 11%  8%  9%  5%  7%\n",
      "[libx264 @ 0x760650] Weighted P-Frames: Y:41.7% UV:41.7%\n",
      "[libx264 @ 0x760650] ref P L0: 36.3% 13.8% 20.8% 21.1%  8.0%\n",
      "[libx264 @ 0x760650] ref B L0: 56.1% 32.2% 11.7%\n",
      "[libx264 @ 0x760650] ref B L1: 81.6% 18.4%\n",
      "[libx264 @ 0x760650] kb/s:950.32\n"
     ]
    }
   ],
   "source": [
    "cd /home/pi/flowers/webcam/movie\n",
    "avconv -r 60 -i %04d.jpg test2.mp4"
   ]
  },
  {
   "cell_type": "code",
   "execution_count": 2,
   "metadata": {},
   "outputs": [
    {
     "name": "stdout",
     "output_type": "stream",
     "text": [
      "bash.ipynb           humidity_relay.py  reboot.sh       webcam.sh\n",
      "bot_token.config     launcher.sh        relay.py        webcam_timelapse.py\n",
      "control_airflow.py   make_th_plot.py    relay.pyc       webcam_timelapse.sh\n",
      "control_humidity.py  pop_db.py          ssh             wpa_supplicant.conf\n",
      "flowers_bot.py       __pycache__        tutorial.ipynb\n",
      "gitsync.sh           README.md          webcam\n"
     ]
    }
   ],
   "source": [
    "ls"
   ]
  },
  {
   "cell_type": "code",
   "execution_count": 9,
   "metadata": {},
   "outputs": [
    {
     "name": "stdout",
     "output_type": "stream",
     "text": [
      "Reading package lists... Done\n",
      "Building dependency tree       \n",
      "Reading state information... Done\n",
      "The following additional packages will be installed:\n",
      "  libaacs0 libass5 libasyncns0 libavc1394-0 libavcodec57 libavdevice57\n",
      "  libavfilter6 libavformat57 libavresample3 libavutil55 libbdplus0 libbluray1\n",
      "  libbs2b0 libcaca0 libcdio-cdda1 libcdio-paranoia1 libcdio13 libchromaprint1\n",
      "  libdc1394-22 libebur128-1 libegl1-mesa libflac8 libflite1 libgbm1 libgme0\n",
      "  libgsm1 libiec61883-0 libjack-jackd2-0 libmp3lame0 libmpg123-0 libogg0\n",
      "  libopenal-data libopenal1 libopencv-core2.4v5 libopencv-imgproc2.4v5\n",
      "  libopenmpt0 libopus0 libpostproc54 libpulse0 libraw1394-11 librubberband2\n",
      "  libsdl2-2.0-0 libshine3 libsnappy1v5 libsndfile1 libsndio6.1 libsoxr0\n",
      "  libspeex1 libssh-gcrypt-4 libswresample2 libswscale4 libtheora0 libtwolame0\n",
      "  libva-drm1 libva-x11-1 libva1 libvdpau-va-gl1 libvdpau1 libvorbis0a\n",
      "  libvorbisenc2 libvorbisfile3 libvpx4 libwavpack1 libwayland-client0\n",
      "  libwayland-cursor0 libwayland-egl1-mesa libwayland-server0 libx264-148\n",
      "  libx265-95 libxcb-xfixes0 libxkbcommon0 libxvidcore4 libzvbi-common libzvbi0\n",
      "  mesa-va-drivers mesa-vdpau-drivers va-driver-all vdpau-driver-all\n",
      "Suggested packages:\n",
      "  ffmpeg-doc libbluray-bdj alsa-base jackd2 libportaudio2 opus-tools\n",
      "  pulseaudio libraw1394-doc sndiod speex\n",
      "The following NEW packages will be installed:\n",
      "  ffmpeg libaacs0 libass5 libasyncns0 libav-tools libavc1394-0 libavcodec57\n",
      "  libavdevice57 libavfilter6 libavformat57 libavresample3 libavutil55\n",
      "  libbdplus0 libbluray1 libbs2b0 libcaca0 libcdio-cdda1 libcdio-paranoia1\n",
      "  libcdio13 libchromaprint1 libdc1394-22 libebur128-1 libegl1-mesa libflac8\n",
      "  libflite1 libgbm1 libgme0 libgsm1 libiec61883-0 libjack-jackd2-0 libmp3lame0\n",
      "  libmpg123-0 libogg0 libopenal-data libopenal1 libopencv-core2.4v5\n",
      "  libopencv-imgproc2.4v5 libopenmpt0 libopus0 libpostproc54 libpulse0\n",
      "  libraw1394-11 librubberband2 libsdl2-2.0-0 libshine3 libsnappy1v5\n",
      "  libsndfile1 libsndio6.1 libsoxr0 libspeex1 libssh-gcrypt-4 libswresample2\n",
      "  libswscale4 libtheora0 libtwolame0 libva-drm1 libva-x11-1 libva1\n",
      "  libvdpau-va-gl1 libvdpau1 libvorbis0a libvorbisenc2 libvorbisfile3 libvpx4\n",
      "  libwavpack1 libwayland-client0 libwayland-cursor0 libwayland-egl1-mesa\n",
      "  libwayland-server0 libx264-148 libx265-95 libxcb-xfixes0 libxkbcommon0\n",
      "  libxvidcore4 libzvbi-common libzvbi0 mesa-va-drivers mesa-vdpau-drivers\n",
      "  va-driver-all vdpau-driver-all\n",
      "0 upgraded, 80 newly installed, 0 to remove and 0 not upgraded.\n",
      "Need to get 31.9 MB of archives.\n",
      "After this operation, 93.4 MB of additional disk space will be used.\n",
      "Do you want to continue? [Y/n] \n"
     ]
    }
   ],
   "source": [
    "sudo apt-get install ffmpeg libav-tools"
   ]
  },
  {
   "cell_type": "code",
   "execution_count": 10,
   "metadata": {},
   "outputs": [
    {
     "name": "stdout",
     "output_type": "stream",
     "text": [
      "bash: y: command not found\n"
     ]
    },
    {
     "ename": "",
     "evalue": "127",
     "execution_count": 10,
     "output_type": "error",
     "traceback": []
    }
   ],
   "source": [
    "y"
   ]
  },
  {
   "cell_type": "code",
   "execution_count": null,
   "metadata": {},
   "outputs": [],
   "source": [
    "sudo apt-get install ffmpeg libav-tools -y"
   ]
  },
  {
   "cell_type": "code",
   "execution_count": 12,
   "metadata": {},
   "outputs": [
    {
     "name": "stdout",
     "output_type": "stream",
     "text": [
      "date: invalid option -- 'v'\n",
      "Try 'date --help' for more information.\n",
      "printf: usage: printf [-v var] format [arguments]\n"
     ]
    },
    {
     "ename": "",
     "evalue": "2",
     "execution_count": 12,
     "output_type": "error",
     "traceback": []
    }
   ],
   "source": [
    "DATE=$(date -v-d +\"%Y-%m-%d\")\n",
    "printf $DATE"
   ]
  },
  {
   "cell_type": "code",
   "execution_count": 13,
   "metadata": {},
   "outputs": [
    {
     "name": "stdout",
     "output_type": "stream",
     "text": [
      "Usage: date [OPTION]... [+FORMAT]\n",
      "  or:  date [-u|--utc|--universal] [MMDDhhmm[[CC]YY][.ss]]\n",
      "Display the current time in the given FORMAT, or set the system date.\n",
      "\n",
      "Mandatory arguments to long options are mandatory for short options too.\n",
      "  -d, --date=STRING          display time described by STRING, not 'now'\n",
      "      --debug                annotate the parsed date,\n",
      "                              and warn about questionable usage to stderr\n",
      "  -f, --file=DATEFILE        like --date; once for each line of DATEFILE\n",
      "  -I[FMT], --iso-8601[=FMT]  output date/time in ISO 8601 format.\n",
      "                               FMT='date' for date only (the default),\n",
      "                               'hours', 'minutes', 'seconds', or 'ns'\n",
      "                               for date and time to the indicated precision.\n",
      "                               Example: 2006-08-14T02:34:56-06:00\n",
      "  -R, --rfc-2822             output date and time in RFC 2822 format.\n",
      "                               Example: Mon, 14 Aug 2006 02:34:56 -0600\n",
      "      --rfc-3339=FMT         output date/time in RFC 3339 format.\n",
      "                               FMT='date', 'seconds', or 'ns'\n",
      "                               for date and time to the indicated precision.\n",
      "                               Example: 2006-08-14 02:34:56-06:00\n",
      "  -r, --reference=FILE       display the last modification time of FILE\n",
      "  -s, --set=STRING           set time described by STRING\n",
      "  -u, --utc, --universal     print or set Coordinated Universal Time (UTC)\n",
      "      --help     display this help and exit\n",
      "      --version  output version information and exit\n",
      "\n",
      "FORMAT controls the output.  Interpreted sequences are:\n",
      "\n",
      "  %%   a literal %\n",
      "  %a   locale's abbreviated weekday name (e.g., Sun)\n",
      "  %A   locale's full weekday name (e.g., Sunday)\n",
      "  %b   locale's abbreviated month name (e.g., Jan)\n",
      "  %B   locale's full month name (e.g., January)\n",
      "  %c   locale's date and time (e.g., Thu Mar  3 23:05:25 2005)\n",
      "  %C   century; like %Y, except omit last two digits (e.g., 20)\n",
      "  %d   day of month (e.g., 01)\n",
      "  %D   date; same as %m/%d/%y\n",
      "  %e   day of month, space padded; same as %_d\n",
      "  %F   full date; same as %Y-%m-%d\n",
      "  %g   last two digits of year of ISO week number (see %G)\n",
      "  %G   year of ISO week number (see %V); normally useful only with %V\n",
      "  %h   same as %b\n",
      "  %H   hour (00..23)\n",
      "  %I   hour (01..12)\n",
      "  %j   day of year (001..366)\n",
      "  %k   hour, space padded ( 0..23); same as %_H\n",
      "  %l   hour, space padded ( 1..12); same as %_I\n",
      "  %m   month (01..12)\n",
      "  %M   minute (00..59)\n",
      "  %n   a newline\n",
      "  %N   nanoseconds (000000000..999999999)\n",
      "  %p   locale's equivalent of either AM or PM; blank if not known\n",
      "  %P   like %p, but lower case\n",
      "  %q   quarter of year (1..4)\n",
      "  %r   locale's 12-hour clock time (e.g., 11:11:04 PM)\n",
      "  %R   24-hour hour and minute; same as %H:%M\n",
      "  %s   seconds since 1970-01-01 00:00:00 UTC\n",
      "  %S   second (00..60)\n",
      "  %t   a tab\n",
      "  %T   time; same as %H:%M:%S\n",
      "  %u   day of week (1..7); 1 is Monday\n",
      "  %U   week number of year, with Sunday as first day of week (00..53)\n",
      "  %V   ISO week number, with Monday as first day of week (01..53)\n",
      "  %w   day of week (0..6); 0 is Sunday\n",
      "  %W   week number of year, with Monday as first day of week (00..53)\n",
      "  %x   locale's date representation (e.g., 12/31/99)\n",
      "  %X   locale's time representation (e.g., 23:13:48)\n",
      "  %y   last two digits of year (00..99)\n",
      "  %Y   year\n",
      "  %z   +hhmm numeric time zone (e.g., -0400)\n",
      "  %:z  +hh:mm numeric time zone (e.g., -04:00)\n",
      "  %::z  +hh:mm:ss numeric time zone (e.g., -04:00:00)\n",
      "  %:::z  numeric time zone with : to necessary precision (e.g., -04, +05:30)\n",
      "  %Z   alphabetic time zone abbreviation (e.g., EDT)\n",
      "\n",
      "By default, date pads numeric fields with zeroes.\n",
      "The following optional flags may follow '%':\n",
      "\n",
      "  -  (hyphen) do not pad the field\n",
      "  _  (underscore) pad with spaces\n",
      "  0  (zero) pad with zeros\n",
      "  ^  use upper case if possible\n",
      "  #  use opposite case if possible\n",
      "\n",
      "After any flags comes an optional field width, as a decimal number;\n",
      "then an optional modifier, which is either\n",
      "E to use the locale's alternate representations if available, or\n",
      "O to use the locale's alternate numeric symbols if available.\n",
      "\n",
      "Examples:\n",
      "Convert seconds since the epoch (1970-01-01 UTC) to a date\n",
      "  $ date --date='@2147483647'\n",
      "\n",
      "Show the time on the west coast of the US (use tzselect(1) to find TZ)\n",
      "  $ TZ='America/Los_Angeles' date\n",
      "\n",
      "Show the local time for 9AM next Friday on the west coast of the US\n",
      "  $ date --date='TZ=\"America/Los_Angeles\" 09:00 next Fri'\n",
      "\n",
      "GNU coreutils online help: <http://www.gnu.org/software/coreutils/>\n",
      "Full documentation at: <http://www.gnu.org/software/coreutils/date>\n",
      "or available locally via: info '(coreutils) date invocation'\n"
     ]
    }
   ],
   "source": [
    "date --help"
   ]
  },
  {
   "cell_type": "code",
   "execution_count": 35,
   "metadata": {},
   "outputs": [
    {
     "name": "stdout",
     "output_type": "stream",
     "text": [
      "bash: D: command not found\n",
      "bash: STAMP: command not found\n"
     ]
    },
    {
     "ename": "",
     "evalue": "127",
     "execution_count": 35,
     "output_type": "error",
     "traceback": []
    }
   ],
   "source": [
    "D = 5\n",
    "STAMP = `date --date=\"$D day ago\" +%Y-%m-%d`\n"
   ]
  },
  {
   "cell_type": "code",
   "execution_count": 43,
   "metadata": {},
   "outputs": [
    {
     "name": "stdout",
     "output_type": "stream",
     "text": [
      "2018-02-24"
     ]
    }
   ],
   "source": [
    "a=5\n",
    "STAMP=`date --date=\"$a day ago\" +%Y-%m-%d`\n",
    "printf $STAMP"
   ]
  },
  {
   "cell_type": "code",
   "execution_count": 40,
   "metadata": {},
   "outputs": [
    {
     "name": "stdout",
     "output_type": "stream",
     "text": [
      "2018-02-28"
     ]
    }
   ],
   "source": []
  },
  {
   "cell_type": "code",
   "execution_count": null,
   "metadata": {},
   "outputs": [],
   "source": []
  }
 ],
 "metadata": {
  "kernelspec": {
   "display_name": "Bash",
   "language": "bash",
   "name": "bash"
  },
  "language_info": {
   "codemirror_mode": "shell",
   "file_extension": ".sh",
   "mimetype": "text/x-sh",
   "name": "bash"
  }
 },
 "nbformat": 4,
 "nbformat_minor": 2
}
