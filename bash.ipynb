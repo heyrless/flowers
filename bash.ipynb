{
 "cells": [
  {
   "cell_type": "code",
   "execution_count": 1,
   "metadata": {},
   "outputs": [
    {
     "name": "stdout",
     "output_type": "stream",
     "text": [
      "pi\n"
     ]
    }
   ],
   "source": [
    "whoami"
   ]
  },
  {
   "cell_type": "code",
   "execution_count": 13,
   "metadata": {},
   "outputs": [
    {
     "name": "stdout",
     "output_type": "stream",
     "text": [
      "Reading package lists... Done\n",
      "Building dependency tree        \n",
      "Reading state information... Done\n",
      "python-rpi.gpio is already the newest version (0.6.3~stretch-1).\n",
      "The following NEW packages will be installed:\n",
      "  python3-rpi.gpio\n",
      "0 upgraded, 1 newly installed, 0 to remove and 0 not upgraded.\n",
      "Need to get 23.0 kB of archives.\n",
      "After this operation, 74.8 kB of additional disk space will be used.\n",
      "Do you want to continue? [Y/n] \n"
     ]
    }
   ],
   "source": [
    "sudo apt-get install python3-rpi.gpio"
   ]
  },
  {
   "cell_type": "code",
   "execution_count": 4,
   "metadata": {},
   "outputs": [
    {
     "name": "stdout",
     "output_type": "stream",
     "text": [
      "\u001b[1m--- Opening /dev/video0...\n",
      "\u001b[0m\u001b[0mTrying source module v4l2...\n",
      "\u001b[0m\u001b[0m/dev/video0 opened.\n",
      "\u001b[0m\u001b[0mNo input was specified, using the first.\n",
      "\u001b[0m\u001b[0mAdjusting resolution from 384x288 to 352x288.\n",
      "\u001b[0m\u001b[1m--- Capturing frame...\n",
      "\u001b[0m\u001b[0mSkipping 60 frames...\n",
      "\u001b[0m\u001b[0mCapturing 1 frames...\n",
      "\u001b[0m\u001b[0mCaptured 61 frames in 2.06 seconds. (29 fps)\n",
      "\u001b[0m\u001b[1m--- Processing captured image...\n",
      "\u001b[0m\u001b[0mWriting JPEG image to '/home/pi/flowers/webcam/pic.jpg'.\n",
      "\u001b[0m"
     ]
    }
   ],
   "source": [
    "fswebcam -S 60 /home/pi/flowers/webcam/pic.jpg"
   ]
  },
  {
   "cell_type": "code",
   "execution_count": 3,
   "metadata": {},
   "outputs": [
    {
     "name": "stdout",
     "output_type": "stream",
     "text": [
      "Reading package lists... Done\n",
      "Building dependency tree       \n",
      "Reading state information... Done\n",
      "fswebcam is already the newest version (20140113-1).\n",
      "0 upgraded, 0 newly installed, 0 to remove and 0 not upgraded.\n"
     ]
    }
   ],
   "source": [
    "sudo apt-get install fswebcam"
   ]
  },
  {
   "cell_type": "code",
   "execution_count": null,
   "metadata": {},
   "outputs": [
    {
     "name": "stdout",
     "output_type": "stream",
     "text": [
      "Reading package lists... Done\n",
      "Building dependency tree       \n",
      "Reading state information... Done\n",
      "The following additional packages will be installed:\n",
      "  ffmpeg libaacs0 libass5 libasyncns0 libavc1394-0 libavcodec57 libavdevice57\n",
      "  libavfilter6 libavformat57 libavresample3 libavutil55 libbdplus0 libbluray1\n",
      "  libbs2b0 libcaca0 libcdio-cdda1 libcdio-paranoia1 libcdio13 libchromaprint1\n",
      "  libdc1394-22 libebur128-1 libegl1-mesa libflac8 libflite1 libgbm1 libgme0\n",
      "  libgsm1 libiec61883-0 libjack-jackd2-0 libmp3lame0 libmpg123-0 libogg0\n",
      "  libopenal-data libopenal1 libopencv-core2.4v5 libopencv-imgproc2.4v5\n",
      "  libopenmpt0 libopus0 libpostproc54 libpulse0 libraw1394-11 librubberband2\n",
      "  libsdl2-2.0-0 libshine3 libsnappy1v5 libsndfile1 libsndio6.1 libsoxr0\n",
      "  libspeex1 libssh-gcrypt-4 libswresample2 libswscale4 libtheora0 libtwolame0\n",
      "  libva-drm1 libva-x11-1 libva1 libvdpau-va-gl1 libvdpau1 libvorbis0a\n",
      "  libvorbisenc2 libvorbisfile3 libvpx4 libwavpack1 libwayland-client0\n",
      "  libwayland-cursor0 libwayland-egl1-mesa libwayland-server0 libx264-148\n",
      "  libx265-95 libxcb-xfixes0 libxkbcommon0 libxvidcore4 libzvbi-common libzvbi0\n",
      "  mesa-va-drivers mesa-vdpau-drivers va-driver-all vdpau-driver-all\n",
      "Suggested packages:\n",
      "  ffmpeg-doc libbluray-bdj alsa-base jackd2 libportaudio2 opus-tools\n",
      "  pulseaudio libraw1394-doc sndiod speex\n",
      "The following NEW packages will be installed:\n",
      "  ffmpeg libaacs0 libass5 libasyncns0 libav-tools libavc1394-0 libavcodec57\n",
      "  libavdevice57 libavfilter6 libavformat57 libavresample3 libavutil55\n",
      "  libbdplus0 libbluray1 libbs2b0 libcaca0 libcdio-cdda1 libcdio-paranoia1\n",
      "  libcdio13 libchromaprint1 libdc1394-22 libebur128-1 libegl1-mesa libflac8\n",
      "  libflite1 libgbm1 libgme0 libgsm1 libiec61883-0 libjack-jackd2-0 libmp3lame0\n",
      "  libmpg123-0 libogg0 libopenal-data libopenal1 libopencv-core2.4v5\n",
      "  libopencv-imgproc2.4v5 libopenmpt0 libopus0 libpostproc54 libpulse0\n",
      "  libraw1394-11 librubberband2 libsdl2-2.0-0 libshine3 libsnappy1v5\n",
      "  libsndfile1 libsndio6.1 libsoxr0 libspeex1 libssh-gcrypt-4 libswresample2\n",
      "  libswscale4 libtheora0 libtwolame0 libva-drm1 libva-x11-1 libva1\n",
      "  libvdpau-va-gl1 libvdpau1 libvorbis0a libvorbisenc2 libvorbisfile3 libvpx4\n",
      "  libwavpack1 libwayland-client0 libwayland-cursor0 libwayland-egl1-mesa\n",
      "  libwayland-server0 libx264-148 libx265-95 libxcb-xfixes0 libxkbcommon0\n",
      "  libxvidcore4 libzvbi-common libzvbi0 mesa-va-drivers mesa-vdpau-drivers\n",
      "  va-driver-all vdpau-driver-all\n",
      "0 upgraded, 80 newly installed, 0 to remove and 0 not upgraded.\n",
      "Need to get 31.9 MB of archives.\n",
      "After this operation, 93.4 MB of additional disk space will be used.\n"
     ]
    }
   ],
   "source": [
    "sudo apt-get install libav-tools"
   ]
  },
  {
   "cell_type": "code",
   "execution_count": 4,
   "metadata": {},
   "outputs": [
    {
     "name": "stdout",
     "output_type": "stream",
     "text": [
      "bash: ffmpeg: command not found\n"
     ]
    },
    {
     "ename": "",
     "evalue": "127",
     "execution_count": 4,
     "output_type": "error",
     "traceback": []
    }
   ],
   "source": [
    "ffmpeg -r 200 -f image2 -i 2018-03-01* -vcodec libx264 -crf 25  -pix_fmt yuv420p test.mp4"
   ]
  },
  {
   "cell_type": "code",
   "execution_count": 6,
   "metadata": {},
   "outputs": [],
   "source": [
    "a=1\n",
    "for i in 2018-03-01*.jpg; do\n",
    "  new=$(printf \"/home/pi/flowers/webcam/test/%04d.jpg\" \"$a\") #04 pad to length of 4\n",
    "  cp -i \"$i\" \"$new\"\n",
    "  let a=a+1\n",
    "done"
   ]
  },
  {
   "cell_type": "code",
   "execution_count": 3,
   "metadata": {},
   "outputs": [],
   "source": [
    "cd /home/pi/flowers/webcam/movie"
   ]
  },
  {
   "cell_type": "code",
   "execution_count": null,
   "metadata": {},
   "outputs": [],
   "source": [
    "avconv -r 60 -i %04d.jpg -b:v 1000k test.mp4"
   ]
  },
  {
   "cell_type": "code",
   "execution_count": 3,
   "metadata": {},
   "outputs": [
    {
     "name": "stdout",
     "output_type": "stream",
     "text": [
      "ffmpeg version 3.2.10-1~deb9u1+rpt1 Copyright (c) 2000-2018 the FFmpeg developers\n",
      "  built with gcc 6.3.0 (Raspbian 6.3.0-18+rpi1) 20170516\n",
      "  configuration: --prefix=/usr --extra-version='1~deb9u1+rpt1' --toolchain=hardened --libdir=/usr/lib/arm-linux-gnueabihf --incdir=/usr/include/arm-linux-gnueabihf --enable-gpl --disable-stripping --enable-avresample --enable-avisynth --enable-gnutls --enable-ladspa --enable-libass --enable-libbluray --enable-libbs2b --enable-libcaca --enable-libcdio --enable-libebur128 --enable-libflite --enable-libfontconfig --enable-libfreetype --enable-libfribidi --enable-libgme --enable-libgsm --enable-libmp3lame --enable-libopenjpeg --enable-libopenmpt --enable-libopus --enable-libpulse --enable-librubberband --enable-libshine --enable-libsnappy --enable-libsoxr --enable-libspeex --enable-libssh --enable-libtheora --enable-libtwolame --enable-libvorbis --enable-libvpx --enable-libwavpack --enable-libwebp --enable-libx265 --enable-libxvid --enable-libzmq --enable-libzvbi --enable-omx-rpi --enable-mmal --enable-openal --enable-opengl --enable-sdl2 --enable-libdc1394 --enable-libiec61883 --enable-chromaprint --enable-frei0r --enable-libopencv --enable-libx264 --enable-shared\n",
      "  libavutil      55. 34.101 / 55. 34.101\n",
      "  libavcodec     57. 64.101 / 57. 64.101\n",
      "  libavformat    57. 56.101 / 57. 56.101\n",
      "  libavdevice    57.  1.100 / 57.  1.100\n",
      "  libavfilter     6. 65.100 /  6. 65.100\n",
      "  libavresample   3.  1.  0 /  3.  1.  0\n",
      "  libswscale      4.  2.100 /  4.  2.100\n",
      "  libswresample   2.  3.100 /  2.  3.100\n",
      "  libpostproc    54.  1.100 / 54.  1.100\n",
      "Input #0, image2, from '%04d.jpg':\n",
      "  Duration: 00:00:07.12, start: 0.000000, bitrate: N/A\n",
      "    Stream #0:0: Video: mjpeg, yuvj444p(pc, bt470bg/unknown/unknown), 352x288 [SAR 96:96 DAR 11:9], 25 fps, 25 tbr, 25 tbn, 25 tbc\n",
      "No pixel format specified, yuvj444p for H.264 encoding chosen.\n",
      "Use -pix_fmt yuv420p for compatibility with outdated media players.\n",
      "[libx264 @ 0x760650] using SAR=1/1\n",
      "[libx264 @ 0x760650] using cpu capabilities: ARMv6 NEON\n",
      "[libx264 @ 0x760650] profile High 4:4:4 Predictive, level 3.0, 4:4:4 8-bit\n",
      "[libx264 @ 0x760650] 264 - core 148 r2748 97eaef2 - H.264/MPEG-4 AVC codec - Copyleft 2003-2016 - http://www.videolan.org/x264.html - options: cabac=1 ref=3 deblock=1:0:0 analyse=0x3:0x113 me=hex subme=7 psy=1 psy_rd=1.00:0.00 mixed_ref=1 me_range=16 chroma_me=1 trellis=1 8x8dct=1 cqm=0 deadzone=21,11 fast_pskip=1 chroma_qp_offset=4 threads=6 lookahead_threads=1 sliced_threads=0 nr=0 decimate=1 interlaced=0 bluray_compat=0 constrained_intra=0 bframes=3 b_pyramid=2 b_adapt=1 b_bias=0 direct=1 weightb=1 open_gop=0 weightp=2 keyint=250 keyint_min=25 scenecut=40 intra_refresh=0 rc_lookahead=40 rc=crf mbtree=1 crf=23.0 qcomp=0.60 qpmin=0 qpmax=69 qpstep=4 ip_ratio=1.40 aq=1:1.00\n",
      "Output #0, mp4, to 'test2.mp4':\n",
      "  Metadata:\n",
      "    encoder         : Lavf57.56.101\n",
      "    Stream #0:0: Video: h264 (libx264) ([33][0][0][0] / 0x0021), yuvj444p(pc), 352x288 [SAR 96:96 DAR 11:9], q=-1--1, 60 fps, 15360 tbn, 60 tbc\n",
      "    Metadata:\n",
      "      encoder         : Lavc57.64.101 libx264\n",
      "    Side data:\n",
      "      cpb: bitrate max/min/avg: 0/0/0 buffer size: 0 vbv_delay: -1\n",
      "Stream mapping:\n",
      "  Stream #0:0 -> #0:0 (mjpeg (native) -> h264 (libx264))\n",
      "Press [q] to stop, [?] for help\n",
      "Past duration 0.999992 too large\n",
      "    Last message repeated 42 times\n",
      "Past duration 0.999992 too large      0kB time=00:00:00.00 bitrate=N/A dup=1 drop=0 speed=   0x    \n",
      "    Last message repeated 10 times\n",
      "Past duration 0.999992 too large      23kB time=00:00:00.05 bitrate=3745.5kbits/s dup=1 drop=0 speed=0.0487x    \n",
      "    Last message repeated 13 times\n",
      "Past duration 0.999992 too large      51kB time=00:00:00.28 bitrate=1482.6kbits/s dup=1 drop=0 speed=0.182x    \n",
      "    Last message repeated 13 times\n",
      "Past duration 0.999992 too large      78kB time=00:00:00.51 bitrate=1228.8kbits/s dup=1 drop=0 speed=0.245x    \n",
      "    Last message repeated 15 times\n",
      "Past duration 0.999992 too large     104kB time=00:00:00.78 bitrate=1092.0kbits/s dup=1 drop=0 speed=0.289x    \n",
      "    Last message repeated 15 times\n",
      "Past duration 0.999992 too large     134kB time=00:00:01.05 bitrate=1045.9kbits/s dup=1 drop=0 speed=0.321x    \n",
      "    Last message repeated 16 times\n",
      "Past duration 0.999992 too large     164kB time=00:00:01.33 bitrate=1010.5kbits/s dup=1 drop=0 speed=0.351x    \n",
      "    Last message repeated 11 times\n",
      "Past duration 0.999992 too large     188kB time=00:00:01.53 bitrate=1006.1kbits/s dup=1 drop=0 speed=0.353x    \n",
      "    Last message repeated 16 times\n",
      "Past duration 0.999992 too large     218kB time=00:00:01.81 bitrate= 984.7kbits/s dup=1 drop=0 speed=0.37x    \n",
      "    Last message repeated 15 times\n",
      "Past duration 0.999992 too large     246kB time=00:00:02.08 bitrate= 967.9kbits/s dup=1 drop=0 speed=0.382x    \n",
      "frame=  179 fps= 26 q=-1.0 Lsize=     350kB time=00:00:02.93 bitrate= 976.5kbits/s dup=1 drop=0 speed=0.418x    \n",
      "video:347kB audio:0kB subtitle:0kB other streams:0kB global headers:0kB muxing overhead: 0.836150%\n",
      "[libx264 @ 0x760650] frame I:1     Avg QP:29.07  size: 12247\n",
      "[libx264 @ 0x760650] frame P:48    Avg QP:30.04  size:  3166\n",
      "[libx264 @ 0x760650] frame B:130   Avg QP:33.35  size:  1463\n",
      "[libx264 @ 0x760650] consecutive B-frames:  0.6%  5.6%  6.7% 87.2%\n",
      "[libx264 @ 0x760650] mb I  I16..4:  7.1% 66.4% 26.5%\n",
      "[libx264 @ 0x760650] mb P  I16..4:  3.3%  2.4%  0.3%  P16..4: 50.9% 24.5% 11.0%  0.0%  0.0%    skip: 7.5%\n",
      "[libx264 @ 0x760650] mb B  I16..4:  1.2%  0.9%  0.0%  B16..8: 38.9% 13.6%  2.6%  direct: 9.4%  skip:33.4%  L0:48.9% L1:43.3% BI: 7.7%\n",
      "[libx264 @ 0x760650] 8x8 transform intra:45.5% inter:73.8%\n",
      "[libx264 @ 0x760650] coded y,u,v intra: 35.1% 26.5% 24.4% inter: 36.9% 16.5% 29.3%\n",
      "[libx264 @ 0x760650] i16 v,h,dc,p: 26% 11%  7% 56%\n",
      "[libx264 @ 0x760650] i8 v,h,dc,ddl,ddr,vr,hd,vl,hu: 14% 12% 27%  6%  9%  7%  9%  6%  9%\n",
      "[libx264 @ 0x760650] i4 v,h,dc,ddl,ddr,vr,hd,vl,hu: 12% 19% 22%  7% 11%  8%  9%  5%  7%\n",
      "[libx264 @ 0x760650] Weighted P-Frames: Y:41.7% UV:41.7%\n",
      "[libx264 @ 0x760650] ref P L0: 36.3% 13.8% 20.8% 21.1%  8.0%\n",
      "[libx264 @ 0x760650] ref B L0: 56.1% 32.2% 11.7%\n",
      "[libx264 @ 0x760650] ref B L1: 81.6% 18.4%\n",
      "[libx264 @ 0x760650] kb/s:950.32\n"
     ]
    }
   ],
   "source": [
    "cd /home/pi/flowers/webcam/movie\n",
    "avconv -r 60 -i %04d.jpg test2.mp4"
   ]
  },
  {
   "cell_type": "code",
   "execution_count": 9,
   "metadata": {},
   "outputs": [
    {
     "name": "stdout",
     "output_type": "stream",
     "text": [
      "Reading package lists... Done\n",
      "Building dependency tree       \n",
      "Reading state information... Done\n",
      "The following additional packages will be installed:\n",
      "  libaacs0 libass5 libasyncns0 libavc1394-0 libavcodec57 libavdevice57\n",
      "  libavfilter6 libavformat57 libavresample3 libavutil55 libbdplus0 libbluray1\n",
      "  libbs2b0 libcaca0 libcdio-cdda1 libcdio-paranoia1 libcdio13 libchromaprint1\n",
      "  libdc1394-22 libebur128-1 libegl1-mesa libflac8 libflite1 libgbm1 libgme0\n",
      "  libgsm1 libiec61883-0 libjack-jackd2-0 libmp3lame0 libmpg123-0 libogg0\n",
      "  libopenal-data libopenal1 libopencv-core2.4v5 libopencv-imgproc2.4v5\n",
      "  libopenmpt0 libopus0 libpostproc54 libpulse0 libraw1394-11 librubberband2\n",
      "  libsdl2-2.0-0 libshine3 libsnappy1v5 libsndfile1 libsndio6.1 libsoxr0\n",
      "  libspeex1 libssh-gcrypt-4 libswresample2 libswscale4 libtheora0 libtwolame0\n",
      "  libva-drm1 libva-x11-1 libva1 libvdpau-va-gl1 libvdpau1 libvorbis0a\n",
      "  libvorbisenc2 libvorbisfile3 libvpx4 libwavpack1 libwayland-client0\n",
      "  libwayland-cursor0 libwayland-egl1-mesa libwayland-server0 libx264-148\n",
      "  libx265-95 libxcb-xfixes0 libxkbcommon0 libxvidcore4 libzvbi-common libzvbi0\n",
      "  mesa-va-drivers mesa-vdpau-drivers va-driver-all vdpau-driver-all\n",
      "Suggested packages:\n",
      "  ffmpeg-doc libbluray-bdj alsa-base jackd2 libportaudio2 opus-tools\n",
      "  pulseaudio libraw1394-doc sndiod speex\n",
      "The following NEW packages will be installed:\n",
      "  ffmpeg libaacs0 libass5 libasyncns0 libav-tools libavc1394-0 libavcodec57\n",
      "  libavdevice57 libavfilter6 libavformat57 libavresample3 libavutil55\n",
      "  libbdplus0 libbluray1 libbs2b0 libcaca0 libcdio-cdda1 libcdio-paranoia1\n",
      "  libcdio13 libchromaprint1 libdc1394-22 libebur128-1 libegl1-mesa libflac8\n",
      "  libflite1 libgbm1 libgme0 libgsm1 libiec61883-0 libjack-jackd2-0 libmp3lame0\n",
      "  libmpg123-0 libogg0 libopenal-data libopenal1 libopencv-core2.4v5\n",
      "  libopencv-imgproc2.4v5 libopenmpt0 libopus0 libpostproc54 libpulse0\n",
      "  libraw1394-11 librubberband2 libsdl2-2.0-0 libshine3 libsnappy1v5\n",
      "  libsndfile1 libsndio6.1 libsoxr0 libspeex1 libssh-gcrypt-4 libswresample2\n",
      "  libswscale4 libtheora0 libtwolame0 libva-drm1 libva-x11-1 libva1\n",
      "  libvdpau-va-gl1 libvdpau1 libvorbis0a libvorbisenc2 libvorbisfile3 libvpx4\n",
      "  libwavpack1 libwayland-client0 libwayland-cursor0 libwayland-egl1-mesa\n",
      "  libwayland-server0 libx264-148 libx265-95 libxcb-xfixes0 libxkbcommon0\n",
      "  libxvidcore4 libzvbi-common libzvbi0 mesa-va-drivers mesa-vdpau-drivers\n",
      "  va-driver-all vdpau-driver-all\n",
      "0 upgraded, 80 newly installed, 0 to remove and 0 not upgraded.\n",
      "Need to get 31.9 MB of archives.\n",
      "After this operation, 93.4 MB of additional disk space will be used.\n",
      "Do you want to continue? [Y/n] \n"
     ]
    }
   ],
   "source": [
    "sudo apt-get install ffmpeg libav-tools"
   ]
  },
  {
   "cell_type": "code",
   "execution_count": 48,
   "metadata": {},
   "outputs": [],
   "source": [
    "chmod +x webcam_build_mp4.sh\n"
   ]
  },
  {
   "cell_type": "code",
   "execution_count": 2,
   "metadata": {},
   "outputs": [
    {
     "name": "stdout",
     "output_type": "stream",
     "text": [
      "ffmpeg version 3.2.10-1~deb9u1+rpt1 Copyright (c) 2000-2018 the FFmpeg developers\n",
      "  built with gcc 6.3.0 (Raspbian 6.3.0-18+rpi1) 20170516\n",
      "  configuration: --prefix=/usr --extra-version='1~deb9u1+rpt1' --toolchain=hardened --libdir=/usr/lib/arm-linux-gnueabihf --incdir=/usr/include/arm-linux-gnueabihf --enable-gpl --disable-stripping --enable-avresample --enable-avisynth --enable-gnutls --enable-ladspa --enable-libass --enable-libbluray --enable-libbs2b --enable-libcaca --enable-libcdio --enable-libebur128 --enable-libflite --enable-libfontconfig --enable-libfreetype --enable-libfribidi --enable-libgme --enable-libgsm --enable-libmp3lame --enable-libopenjpeg --enable-libopenmpt --enable-libopus --enable-libpulse --enable-librubberband --enable-libshine --enable-libsnappy --enable-libsoxr --enable-libspeex --enable-libssh --enable-libtheora --enable-libtwolame --enable-libvorbis --enable-libvpx --enable-libwavpack --enable-libwebp --enable-libx265 --enable-libxvid --enable-libzmq --enable-libzvbi --enable-omx-rpi --enable-mmal --enable-openal --enable-opengl --enable-sdl2 --enable-libdc1394 --enable-libiec61883 --enable-chromaprint --enable-frei0r --enable-libopencv --enable-libx264 --enable-shared\n",
      "  libavutil      55. 34.101 / 55. 34.101\n",
      "  libavcodec     57. 64.101 / 57. 64.101\n",
      "  libavformat    57. 56.101 / 57. 56.101\n",
      "  libavdevice    57.  1.100 / 57.  1.100\n",
      "  libavfilter     6. 65.100 /  6. 65.100\n",
      "  libavresample   3.  1.  0 /  3.  1.  0\n",
      "  libswscale      4.  2.100 /  4.  2.100\n",
      "  libswresample   2.  3.100 /  2.  3.100\n",
      "  libpostproc    54.  1.100 / 54.  1.100\n",
      "Input #0, image2, from '%04d.jpg':\n",
      "  Duration: 00:00:03.57, start: 0.000000, bitrate: N/A\n",
      "    Stream #0:0: Video: mjpeg, yuvj444p(pc, bt470bg/unknown/unknown), 352x288 [SAR 96:96 DAR 11:9], 60 fps, 60 tbr, 60 tbn, 60 tbc\n",
      "[swscaler @ 0xcf86f0] deprecated pixel format used, make sure you did set range correctly\n",
      "[libx264 @ 0x855270] using SAR=1/1\n",
      "[libx264 @ 0x855270] using cpu capabilities: ARMv6 NEON\n",
      "[libx264 @ 0x855270] profile High, level 3.0\n",
      "[libx264 @ 0x855270] 264 - core 148 r2748 97eaef2 - H.264/MPEG-4 AVC codec - Copyleft 2003-2016 - http://www.videolan.org/x264.html - options: cabac=1 ref=3 deblock=1:0:0 analyse=0x3:0x113 me=hex subme=7 psy=1 psy_rd=1.00:0.00 mixed_ref=1 me_range=16 chroma_me=1 trellis=1 8x8dct=1 cqm=0 deadzone=21,11 fast_pskip=1 chroma_qp_offset=-2 threads=6 lookahead_threads=1 sliced_threads=0 nr=0 decimate=1 interlaced=0 bluray_compat=0 constrained_intra=0 bframes=3 b_pyramid=2 b_adapt=1 b_bias=0 direct=1 weightb=1 open_gop=0 weightp=2 keyint=250 keyint_min=25 scenecut=40 intra_refresh=0 rc_lookahead=40 rc=crf mbtree=1 crf=20.0 qcomp=0.60 qpmin=0 qpmax=69 qpstep=4 ip_ratio=1.40 aq=1:1.00\n",
      "Output #0, mp4, to 'timelapse.mp4':\n",
      "  Metadata:\n",
      "    encoder         : Lavf57.56.101\n",
      "    Stream #0:0: Video: h264 (libx264) ([33][0][0][0] / 0x0021), yuv420p, 352x288 [SAR 1:1 DAR 11:9], q=-1--1, 60 fps, 15360 tbn, 60 tbc\n",
      "    Metadata:\n",
      "      encoder         : Lavc57.64.101 libx264\n",
      "    Side data:\n",
      "      cpb: bitrate max/min/avg: 0/0/0 buffer size: 0 vbv_delay: -1\n",
      "Stream mapping:\n",
      "  Stream #0:0 -> #0:0 (mjpeg (native) -> h264 (libx264))\n",
      "Press [q] to stop, [?] for help\n",
      "frame=  214 fps= 30 q=-1.0 Lsize=     497kB time=00:00:03.51 bitrate=1158.6kbits/s speed=0.487x    \n",
      "video:494kB audio:0kB subtitle:0kB other streams:0kB global headers:0kB muxing overhead: 0.666481%\n",
      "[libx264 @ 0x855270] frame I:3     Avg QP:19.43  size: 11263\n",
      "[libx264 @ 0x855270] frame P:59    Avg QP:25.12  size:  4039\n",
      "[libx264 @ 0x855270] frame B:152   Avg QP:27.44  size:  1534\n",
      "[libx264 @ 0x855270] consecutive B-frames:  1.9%  7.5%  8.4% 82.2%\n",
      "[libx264 @ 0x855270] mb I  I16..4: 34.6% 51.2% 14.2%\n",
      "[libx264 @ 0x855270] mb P  I16..4:  1.8%  4.2%  0.8%  P16..4: 48.4% 23.4% 10.8%  0.0%  0.0%    skip:10.6%\n",
      "[libx264 @ 0x855270] mb B  I16..4:  0.6%  0.6%  0.2%  B16..8: 37.2% 13.3%  2.8%  direct:17.7%  skip:27.6%  L0:50.9% L1:39.9% BI: 9.2%\n",
      "[libx264 @ 0x855270] 8x8 transform intra:54.0% inter:69.4%\n",
      "[libx264 @ 0x855270] coded y,uvDC,uvAC intra: 51.9% 82.3% 60.7% inter: 44.1% 62.5% 4.9%\n",
      "[libx264 @ 0x855270] i16 v,h,dc,p: 44% 11%  6% 39%\n",
      "[libx264 @ 0x855270] i8 v,h,dc,ddl,ddr,vr,hd,vl,hu: 11% 13% 26%  7% 10%  7%  9%  6% 12%\n",
      "[libx264 @ 0x855270] i4 v,h,dc,ddl,ddr,vr,hd,vl,hu: 14% 20% 15%  8% 11%  8% 11%  5%  8%\n",
      "[libx264 @ 0x855270] i8c dc,h,v,p: 53% 21% 11% 14%\n",
      "[libx264 @ 0x855270] Weighted P-Frames: Y:27.1% UV:27.1%\n",
      "[libx264 @ 0x855270] ref P L0: 36.6% 18.1% 20.4% 19.9%  4.9%\n",
      "[libx264 @ 0x855270] ref B L0: 58.4% 32.6%  9.0%\n",
      "[libx264 @ 0x855270] ref B L1: 80.5% 19.5%\n",
      "[libx264 @ 0x855270] kb/s:1133.28\n"
     ]
    }
   ],
   "source": [
    "./webcam_build_mp4.sh 1 60"
   ]
  },
  {
   "cell_type": "code",
   "execution_count": 8,
   "metadata": {},
   "outputs": [
    {
     "name": "stdout",
     "output_type": "stream",
     "text": [
      "\u001b[1m--- Opening /dev/video0...\n",
      "\u001b[0m\u001b[0mTrying source module v4l2...\n",
      "\u001b[0m\u001b[0m/dev/video0 opened.\n",
      "\u001b[0m\u001b[0mNo input was specified, using the first.\n",
      "\u001b[0m\u001b[1m--- Capturing frame...\n",
      "\u001b[0m\u001b[0mSkipping 100 frames...\n",
      "\u001b[0m\u001b[0mCapturing 1 frames...\n",
      "\u001b[0m\u001b[0mCaptured 101 frames in 3.36 seconds. (30 fps)\n",
      "\u001b[0m\u001b[1m--- Processing captured image...\n",
      "\u001b[0m\u001b[0mSetting output format to JPEG, quality 95\n",
      "\u001b[0m\u001b[0mWriting JPEG image to 'image02.jpg'.\n",
      "\u001b[0m"
     ]
    }
   ],
   "source": [
    "fswebcam -r 640x360 -S 100 --jpeg 95 image02.jpg"
   ]
  },
  {
   "cell_type": "code",
   "execution_count": 16,
   "metadata": {},
   "outputs": [
    {
     "name": "stdout",
     "output_type": "stream",
     "text": [
      "\u001b[1m--- Opening /dev/video0...\n",
      "\u001b[0m\u001b[0mTrying source module v4l2...\n",
      "\u001b[0m\u001b[0m/dev/video0 opened.\n",
      "\u001b[0m\u001b[0mNo input was specified, using the first.\n",
      "\u001b[0m\u001b[0mAdjusting resolution from 384x288 to 352x288.\n",
      "\u001b[0m\u001b[1m--- Capturing frame...\n",
      "\u001b[0m\u001b[0mSkipping 60 frames...\n",
      "\u001b[0m\u001b[0mCapturing 1 frames...\n",
      "\u001b[0m\u001b[0mCaptured 61 frames in 2.06 seconds. (29 fps)\n",
      "\u001b[0m\u001b[1m--- Processing captured image...\n",
      "\u001b[0m\u001b[0mSetting output format to JPEG, quality 95\n",
      "\u001b[0m\u001b[0mDeinterlacing image.\n",
      "\u001b[0m\u001b[0mSwapping colour channels G <> B\n",
      "\u001b[0m\u001b[0mWriting JPEG image to 'image06.jpg'.\n",
      "\u001b[0m"
     ]
    }
   ],
   "source": [
    "fswebcam -S 60 --jpeg 95 --swapchannels  GB image06.jpg"
   ]
  },
  {
   "cell_type": "code",
   "execution_count": 17,
   "metadata": {},
   "outputs": [
    {
     "name": "stdout",
     "output_type": "stream",
     "text": [
      "\u001b[1m--- Opening /dev/video0...\n",
      "\u001b[0m\u001b[0mTrying source module v4l2...\n",
      "\u001b[0m\u001b[0m/dev/video0 opened.\n",
      "\u001b[0m\u001b[0mNo input was specified, using the first.\n",
      "\u001b[0m\u001b[1mAvailable Controls        Current Value   Range\n",
      "\u001b[0m\u001b[0m------------------        -------------   -----\n",
      "\u001b[0m\u001b[0mBrightness                0 (50%)         -64 - 64\n",
      "\u001b[0m\u001b[0mContrast                  13 (43%)        0 - 30\n",
      "\u001b[0m\u001b[0mSaturation                38 (29%)        0 - 127\n",
      "\u001b[0m\u001b[0mHue                       0 (50%)         -16000 - 16000\n",
      "\u001b[0m\u001b[0mWhite Balance Temperature, Auto True            True | False\n",
      "\u001b[0m\u001b[0mGamma                     100 (34%)       20 - 250\n",
      "\u001b[0m\u001b[0mPower Line Frequency      50 Hz           Disabled | 50 Hz | 60 Hz\n",
      "\u001b[0m\u001b[0mWhite Balance Temperature 5000 (59%)      2800 - 6500\n",
      "\u001b[0m\u001b[0mSharpness                 35 (35%)        0 - 100\n",
      "\u001b[0m\u001b[0mBacklight Compensation    0               0 - 1\n",
      "\u001b[0m\u001b[0mExposure, Auto            Aperture Priority Mode Manual Mode | Aperture Priority Mode\n",
      "\u001b[0m\u001b[0mExposure (Absolute)       312 (6%)        2 - 5000\n",
      "\u001b[0m\u001b[0mExposure, Auto Priority   True            True | False\n",
      "\u001b[0m\u001b[0mPan (Absolute)            0 (50%)         -72000 - 72000\n",
      "\u001b[0m\u001b[0mTilt (Absolute)           0 (50%)         -54000 - 54000\n",
      "\u001b[0m\u001b[0mZoom, Absolute            1               1 - 2\n",
      "\u001b[0m\u001b[0mAdjusting resolution from 384x288 to 352x288.\n",
      "\u001b[0m\u001b[1m--- Capturing frame...\n",
      "\u001b[0m\u001b[0mCaptured frame in 0.00 seconds.\n",
      "\u001b[0m\u001b[1m--- Processing captured image...\n",
      "\u001b[0m\u001b[0mThere are unsaved changes to the image.\n",
      "\u001b[0m"
     ]
    }
   ],
   "source": [
    "fswebcam --list-controls"
   ]
  },
  {
   "cell_type": "code",
   "execution_count": 35,
   "metadata": {},
   "outputs": [
    {
     "name": "stdout",
     "output_type": "stream",
     "text": [
      "\u001b[1m--- Opening /dev/video0...\n",
      "\u001b[0m\u001b[0mTrying source module v4l2...\n",
      "\u001b[0m\u001b[0m/dev/video0 opened.\n",
      "\u001b[0m\u001b[0mNo input was specified, using the first.\n",
      "\u001b[0m\u001b[0mAdjusting resolution from 384x288 to 352x288.\n",
      "\u001b[0m\u001b[1m--- Capturing frame...\n",
      "\u001b[0m\u001b[0mSkipping 100 frames...\n",
      "\u001b[0m\u001b[0mCapturing 1 frames...\n",
      "\u001b[0m\u001b[0mCaptured 101 frames in 12.49 seconds. (8 fps)\n",
      "\u001b[0m\u001b[1m--- Processing captured image...\n",
      "\u001b[0m\u001b[0mSetting output format to JPEG, quality 95\n",
      "\u001b[0m\u001b[0mSwapping colour channels G <> B\n",
      "\u001b[0m\u001b[0mWriting JPEG image to 'image8.jpg'.\n",
      "\u001b[0m"
     ]
    }
   ],
   "source": [
    "\n",
    "let c++\n",
    "fswebcam -S 100 --jpeg 95 --swapchannels  GB image$c.jpg"
   ]
  },
  {
   "cell_type": "code",
   "execution_count": 1,
   "metadata": {},
   "outputs": [
    {
     "name": "stdout",
     "output_type": "stream",
     "text": [
      "\u001b[1m--- Opening /dev/video0...\n",
      "\u001b[0m\u001b[0mTrying source module v4l2...\n",
      "\u001b[0m\u001b[0m/dev/video0 opened.\n",
      "\u001b[0m\u001b[0mNo input was specified, using the first.\n",
      "\u001b[0m\u001b[0mAdjusting resolution from 384x288 to 352x288.\n",
      "\u001b[0m\u001b[1m--- Capturing frame...\n",
      "\u001b[0m\u001b[0mCaptured frame in 0.00 seconds.\n",
      "\u001b[0m\u001b[1m--- Processing captured image...\n",
      "\u001b[0m\u001b[0mThere are unsaved changes to the image.\n",
      "\u001b[0m"
     ]
    }
   ],
   "source": [
    "fswebcam --set exposure=50"
   ]
  },
  {
   "cell_type": "code",
   "execution_count": 1,
   "metadata": {},
   "outputs": [],
   "source": [
    "\n",
    "sudo reboot"
   ]
  },
  {
   "cell_type": "code",
   "execution_count": 1,
   "metadata": {},
   "outputs": [
    {
     "name": "stdout",
     "output_type": "stream",
     "text": [
      "Requirement already satisfied: apscheduler in /home/pi/.venv/jns/lib/python3.5/site-packages\n",
      "Requirement already satisfied: pytz in /home/pi/.venv/jns/lib/python3.5/site-packages (from apscheduler)\n",
      "Requirement already satisfied: setuptools>=0.7 in /home/pi/.venv/jns/lib/python3.5/site-packages (from apscheduler)\n",
      "Requirement already satisfied: tzlocal>=1.2 in /home/pi/.venv/jns/lib/python3.5/site-packages (from apscheduler)\n",
      "Requirement already satisfied: six>=1.4.0 in /home/pi/.venv/jns/lib/python3.5/site-packages (from apscheduler)\n"
     ]
    }
   ],
   "source": [
    " pip3 install apscheduler"
   ]
  },
  {
   "cell_type": "code",
   "execution_count": null,
   "metadata": {},
   "outputs": [],
   "source": []
  }
 ],
 "metadata": {
  "kernelspec": {
   "display_name": "Bash",
   "language": "bash",
   "name": "bash"
  },
  "language_info": {
   "codemirror_mode": "shell",
   "file_extension": ".sh",
   "mimetype": "text/x-sh",
   "name": "bash"
  }
 },
 "nbformat": 4,
 "nbformat_minor": 2
}
