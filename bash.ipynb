{
 "cells": [
  {
   "cell_type": "code",
   "execution_count": 1,
   "metadata": {},
   "outputs": [
    {
     "name": "stdout",
     "output_type": "stream",
     "text": [
      "pi\n"
     ]
    }
   ],
   "source": [
    "whoami"
   ]
  },
  {
   "cell_type": "code",
   "execution_count": 2,
   "metadata": {},
   "outputs": [
    {
     "name": "stdout",
     "output_type": "stream",
     "text": [
      "flowers_bot.py     make_th_plot.py  relay.py        Untitled.ipynb\n",
      "humidity_relay.py  pop_db.py        ssh             webcam_timelapse.py\n",
      "launcher.sh        README.md        tutorial.ipynb  wpa_supplicant.conf\n"
     ]
    }
   ],
   "source": [
    "ls\n"
   ]
  },
  {
   "cell_type": "code",
   "execution_count": 3,
   "metadata": {},
   "outputs": [
    {
     "name": "stdout",
     "output_type": "stream",
     "text": [
      "remote: Counting objects: 16, done.        \n",
      "remote: Compressing objects: 100% (13/13), done.        \n",
      "remote: Total 16 (delta 9), reused 8 (delta 1), pack-reused 0        \n",
      "Unpacking objects: 100% (16/16), done.\n",
      "From https://github.com/dzanaga/flowers\n",
      "   ec2b36a..39063b3  master     -> origin/master\n",
      "Updating ec2b36a..39063b3\n",
      "Fast-forward\n",
      " .gitignore                                   |  6 +++\n",
      " .ipynb_checkpoints/launcher2-checkpoint.sh   |  3 --\n",
      " .ipynb_checkpoints/tutorial-checkpoint.ipynb | 71 ++++++++++++++++++++++++----\n",
      " launcher2.sh                                 |  3 --\n",
      " tutorial.ipynb                               |  8 ++--\n",
      " webcam.sh                                    |  9 ++++\n",
      " webcam_timelapse.sh                          | 11 +++++\n",
      " 7 files changed, 92 insertions(+), 19 deletions(-)\n",
      " create mode 100644 .gitignore\n",
      " delete mode 100644 .ipynb_checkpoints/launcher2-checkpoint.sh\n",
      " delete mode 100644 launcher2.sh\n",
      " create mode 100644 webcam.sh\n",
      " create mode 100644 webcam_timelapse.sh\n"
     ]
    }
   ],
   "source": [
    "git pull"
   ]
  },
  {
   "cell_type": "code",
   "execution_count": 4,
   "metadata": {},
   "outputs": [
    {
     "name": "stdout",
     "output_type": "stream",
     "text": [
      "flowers_bot.py     pop_db.py  tutorial.ipynb       webcam_timelapse.sh\n",
      "humidity_relay.py  README.md  Untitled.ipynb       wpa_supplicant.conf\n",
      "launcher.sh        relay.py   webcam.sh\n",
      "make_th_plot.py    ssh        webcam_timelapse.py\n"
     ]
    }
   ],
   "source": [
    "ls"
   ]
  },
  {
   "cell_type": "code",
   "execution_count": 5,
   "metadata": {},
   "outputs": [],
   "source": [
    "mkdir webcam"
   ]
  },
  {
   "cell_type": "code",
   "execution_count": 6,
   "metadata": {},
   "outputs": [
    {
     "name": "stdout",
     "output_type": "stream",
     "text": [
      "flowers_bot.py     pop_db.py  tutorial.ipynb  webcam_timelapse.py\n",
      "humidity_relay.py  README.md  Untitled.ipynb  webcam_timelapse.sh\n",
      "launcher.sh        relay.py   webcam          wpa_supplicant.conf\n",
      "make_th_plot.py    ssh        webcam.sh\n"
     ]
    }
   ],
   "source": [
    "ls"
   ]
  },
  {
   "cell_type": "code",
   "execution_count": 7,
   "metadata": {},
   "outputs": [
    {
     "name": "stdout",
     "output_type": "stream",
     "text": [
      "Cloning into 'Adafruit_Python_DHT'...\n",
      "remote: Counting objects: 249, done.        \n",
      "remote: Total 249 (delta 0), reused 0 (delta 0), pack-reused 249        \n",
      "Receiving objects: 100% (249/249), 77.01 KiB | 0 bytes/s, done.\n",
      "Resolving deltas: 100% (142/142), done.\n"
     ]
    }
   ],
   "source": [
    "git clone https://github.com/adafruit/Adafruit_Python_DHT.git"
   ]
  },
  {
   "cell_type": "code",
   "execution_count": 8,
   "metadata": {},
   "outputs": [],
   "source": [
    "cd Adafruit_Python_DHT"
   ]
  },
  {
   "cell_type": "code",
   "execution_count": 9,
   "metadata": {},
   "outputs": [
    {
     "name": "stdout",
     "output_type": "stream",
     "text": [
      "running install\n",
      "running bdist_egg\n",
      "running egg_info\n",
      "creating Adafruit_DHT.egg-info\n",
      "writing top-level names to Adafruit_DHT.egg-info/top_level.txt\n",
      "writing Adafruit_DHT.egg-info/PKG-INFO\n",
      "writing dependency_links to Adafruit_DHT.egg-info/dependency_links.txt\n",
      "writing manifest file 'Adafruit_DHT.egg-info/SOURCES.txt'\n",
      "reading manifest file 'Adafruit_DHT.egg-info/SOURCES.txt'\n",
      "writing manifest file 'Adafruit_DHT.egg-info/SOURCES.txt'\n",
      "installing library code to build/bdist.linux-armv7l/egg\n",
      "running install_lib\n",
      "running build_py\n",
      "creating build\n",
      "creating build/lib.linux-armv7l-3.5\n",
      "creating build/lib.linux-armv7l-3.5/Adafruit_DHT\n",
      "copying Adafruit_DHT/Beaglebone_Black.py -> build/lib.linux-armv7l-3.5/Adafruit_DHT\n",
      "copying Adafruit_DHT/Test.py -> build/lib.linux-armv7l-3.5/Adafruit_DHT\n",
      "copying Adafruit_DHT/common.py -> build/lib.linux-armv7l-3.5/Adafruit_DHT\n",
      "copying Adafruit_DHT/platform_detect.py -> build/lib.linux-armv7l-3.5/Adafruit_DHT\n",
      "copying Adafruit_DHT/__init__.py -> build/lib.linux-armv7l-3.5/Adafruit_DHT\n",
      "copying Adafruit_DHT/Raspberry_Pi_2.py -> build/lib.linux-armv7l-3.5/Adafruit_DHT\n",
      "copying Adafruit_DHT/Raspberry_Pi.py -> build/lib.linux-armv7l-3.5/Adafruit_DHT\n",
      "running build_ext\n",
      "building 'Adafruit_DHT.Raspberry_Pi_2_Driver' extension\n",
      "creating build/temp.linux-armv7l-3.5\n",
      "creating build/temp.linux-armv7l-3.5/source\n",
      "creating build/temp.linux-armv7l-3.5/source/Raspberry_Pi_2\n",
      "arm-linux-gnueabihf-gcc -pthread -DNDEBUG -g -fwrapv -O2 -Wall -Wstrict-prototypes -g -fdebug-prefix-map=/build/python3.5-RUbMX3/python3.5-3.5.3=. -fstack-protector-strong -Wformat -Werror=format-security -Wdate-time -D_FORTIFY_SOURCE=2 -fPIC -I/home/pi/.venv/jns/include -I/usr/include/python3.5m -c source/_Raspberry_Pi_2_Driver.c -o build/temp.linux-armv7l-3.5/source/_Raspberry_Pi_2_Driver.o -std=gnu99\n",
      "arm-linux-gnueabihf-gcc -pthread -DNDEBUG -g -fwrapv -O2 -Wall -Wstrict-prototypes -g -fdebug-prefix-map=/build/python3.5-RUbMX3/python3.5-3.5.3=. -fstack-protector-strong -Wformat -Werror=format-security -Wdate-time -D_FORTIFY_SOURCE=2 -fPIC -I/home/pi/.venv/jns/include -I/usr/include/python3.5m -c source/common_dht_read.c -o build/temp.linux-armv7l-3.5/source/common_dht_read.o -std=gnu99\n",
      "arm-linux-gnueabihf-gcc -pthread -DNDEBUG -g -fwrapv -O2 -Wall -Wstrict-prototypes -g -fdebug-prefix-map=/build/python3.5-RUbMX3/python3.5-3.5.3=. -fstack-protector-strong -Wformat -Werror=format-security -Wdate-time -D_FORTIFY_SOURCE=2 -fPIC -I/home/pi/.venv/jns/include -I/usr/include/python3.5m -c source/Raspberry_Pi_2/pi_2_dht_read.c -o build/temp.linux-armv7l-3.5/source/Raspberry_Pi_2/pi_2_dht_read.o -std=gnu99\n",
      "arm-linux-gnueabihf-gcc -pthread -DNDEBUG -g -fwrapv -O2 -Wall -Wstrict-prototypes -g -fdebug-prefix-map=/build/python3.5-RUbMX3/python3.5-3.5.3=. -fstack-protector-strong -Wformat -Werror=format-security -Wdate-time -D_FORTIFY_SOURCE=2 -fPIC -I/home/pi/.venv/jns/include -I/usr/include/python3.5m -c source/Raspberry_Pi_2/pi_2_mmio.c -o build/temp.linux-armv7l-3.5/source/Raspberry_Pi_2/pi_2_mmio.o -std=gnu99\n",
      "arm-linux-gnueabihf-gcc -pthread -shared -Wl,-O1 -Wl,-Bsymbolic-functions -Wl,-z,relro -Wl,-z,relro -g -fdebug-prefix-map=/build/python3.5-RUbMX3/python3.5-3.5.3=. -fstack-protector-strong -Wformat -Werror=format-security -Wdate-time -D_FORTIFY_SOURCE=2 build/temp.linux-armv7l-3.5/source/_Raspberry_Pi_2_Driver.o build/temp.linux-armv7l-3.5/source/common_dht_read.o build/temp.linux-armv7l-3.5/source/Raspberry_Pi_2/pi_2_dht_read.o build/temp.linux-armv7l-3.5/source/Raspberry_Pi_2/pi_2_mmio.o -lrt -o build/lib.linux-armv7l-3.5/Adafruit_DHT/Raspberry_Pi_2_Driver.cpython-35m-arm-linux-gnueabihf.so\n",
      "creating build/bdist.linux-armv7l\n",
      "creating build/bdist.linux-armv7l/egg\n",
      "creating build/bdist.linux-armv7l/egg/Adafruit_DHT\n",
      "copying build/lib.linux-armv7l-3.5/Adafruit_DHT/Raspberry_Pi_2_Driver.cpython-35m-arm-linux-gnueabihf.so -> build/bdist.linux-armv7l/egg/Adafruit_DHT\n",
      "copying build/lib.linux-armv7l-3.5/Adafruit_DHT/Beaglebone_Black.py -> build/bdist.linux-armv7l/egg/Adafruit_DHT\n",
      "copying build/lib.linux-armv7l-3.5/Adafruit_DHT/Test.py -> build/bdist.linux-armv7l/egg/Adafruit_DHT\n",
      "copying build/lib.linux-armv7l-3.5/Adafruit_DHT/common.py -> build/bdist.linux-armv7l/egg/Adafruit_DHT\n",
      "copying build/lib.linux-armv7l-3.5/Adafruit_DHT/platform_detect.py -> build/bdist.linux-armv7l/egg/Adafruit_DHT\n",
      "copying build/lib.linux-armv7l-3.5/Adafruit_DHT/__init__.py -> build/bdist.linux-armv7l/egg/Adafruit_DHT\n",
      "copying build/lib.linux-armv7l-3.5/Adafruit_DHT/Raspberry_Pi_2.py -> build/bdist.linux-armv7l/egg/Adafruit_DHT\n",
      "copying build/lib.linux-armv7l-3.5/Adafruit_DHT/Raspberry_Pi.py -> build/bdist.linux-armv7l/egg/Adafruit_DHT\n",
      "byte-compiling build/bdist.linux-armv7l/egg/Adafruit_DHT/Beaglebone_Black.py to Beaglebone_Black.cpython-35.pyc\n",
      "byte-compiling build/bdist.linux-armv7l/egg/Adafruit_DHT/Test.py to Test.cpython-35.pyc\n",
      "byte-compiling build/bdist.linux-armv7l/egg/Adafruit_DHT/common.py to common.cpython-35.pyc\n",
      "byte-compiling build/bdist.linux-armv7l/egg/Adafruit_DHT/platform_detect.py to platform_detect.cpython-35.pyc\n",
      "byte-compiling build/bdist.linux-armv7l/egg/Adafruit_DHT/__init__.py to __init__.cpython-35.pyc\n",
      "byte-compiling build/bdist.linux-armv7l/egg/Adafruit_DHT/Raspberry_Pi_2.py to Raspberry_Pi_2.cpython-35.pyc\n",
      "byte-compiling build/bdist.linux-armv7l/egg/Adafruit_DHT/Raspberry_Pi.py to Raspberry_Pi.cpython-35.pyc\n",
      "creating stub loader for Adafruit_DHT/Raspberry_Pi_2_Driver.cpython-35m-arm-linux-gnueabihf.so\n",
      "byte-compiling build/bdist.linux-armv7l/egg/Adafruit_DHT/Raspberry_Pi_2_Driver.py to Raspberry_Pi_2_Driver.cpython-35.pyc\n",
      "creating build/bdist.linux-armv7l/egg/EGG-INFO\n",
      "copying Adafruit_DHT.egg-info/PKG-INFO -> build/bdist.linux-armv7l/egg/EGG-INFO\n",
      "copying Adafruit_DHT.egg-info/SOURCES.txt -> build/bdist.linux-armv7l/egg/EGG-INFO\n",
      "copying Adafruit_DHT.egg-info/dependency_links.txt -> build/bdist.linux-armv7l/egg/EGG-INFO\n",
      "copying Adafruit_DHT.egg-info/top_level.txt -> build/bdist.linux-armv7l/egg/EGG-INFO\n",
      "writing build/bdist.linux-armv7l/egg/EGG-INFO/native_libs.txt\n",
      "zip_safe flag not set; analyzing archive contents...\n",
      "Adafruit_DHT.__pycache__.Raspberry_Pi_2_Driver.cpython-35: module references __file__\n",
      "creating dist\n",
      "creating 'dist/Adafruit_DHT-1.3.2-py3.5-linux-armv7l.egg' and adding 'build/bdist.linux-armv7l/egg' to it\n",
      "removing 'build/bdist.linux-armv7l/egg' (and everything under it)\n",
      "Processing Adafruit_DHT-1.3.2-py3.5-linux-armv7l.egg\n",
      "creating /home/pi/.venv/jns/lib/python3.5/site-packages/Adafruit_DHT-1.3.2-py3.5-linux-armv7l.egg\n",
      "Extracting Adafruit_DHT-1.3.2-py3.5-linux-armv7l.egg to /home/pi/.venv/jns/lib/python3.5/site-packages\n",
      "Adding Adafruit-DHT 1.3.2 to easy-install.pth file\n",
      "\n",
      "Installed /home/pi/.venv/jns/lib/python3.5/site-packages/Adafruit_DHT-1.3.2-py3.5-linux-armv7l.egg\n",
      "Processing dependencies for Adafruit-DHT==1.3.2\n",
      "Finished processing dependencies for Adafruit-DHT==1.3.2\n"
     ]
    }
   ],
   "source": [
    "python setup.py install"
   ]
  },
  {
   "cell_type": "code",
   "execution_count": 10,
   "metadata": {},
   "outputs": [],
   "source": [
    "cd .."
   ]
  },
  {
   "cell_type": "code",
   "execution_count": 12,
   "metadata": {},
   "outputs": [],
   "source": [
    "rm -rf Adafruit_Python_DHT"
   ]
  },
  {
   "cell_type": "code",
   "execution_count": 13,
   "metadata": {},
   "outputs": [
    {
     "name": "stdout",
     "output_type": "stream",
     "text": [
      "Reading package lists... Done\n",
      "Building dependency tree        \n",
      "Reading state information... Done\n",
      "python-rpi.gpio is already the newest version (0.6.3~stretch-1).\n",
      "The following NEW packages will be installed:\n",
      "  python3-rpi.gpio\n",
      "0 upgraded, 1 newly installed, 0 to remove and 0 not upgraded.\n",
      "Need to get 23.0 kB of archives.\n",
      "After this operation, 74.8 kB of additional disk space will be used.\n",
      "Do you want to continue? [Y/n] \n"
     ]
    }
   ],
   "source": [
    "sudo apt-get install python3-rpi.gpio"
   ]
  },
  {
   "cell_type": "code",
   "execution_count": 14,
   "metadata": {},
   "outputs": [
    {
     "name": "stdout",
     "output_type": "stream",
     "text": [
      "bash: y: command not found\n"
     ]
    },
    {
     "ename": "",
     "evalue": "127",
     "execution_count": 14,
     "output_type": "error",
     "traceback": []
    }
   ],
   "source": [
    "y"
   ]
  },
  {
   "cell_type": "code",
   "execution_count": 4,
   "metadata": {},
   "outputs": [
    {
     "name": "stdout",
     "output_type": "stream",
     "text": [
      "\u001b[1m--- Opening /dev/video0...\n",
      "\u001b[0m\u001b[0mTrying source module v4l2...\n",
      "\u001b[0m\u001b[0m/dev/video0 opened.\n",
      "\u001b[0m\u001b[0mNo input was specified, using the first.\n",
      "\u001b[0m\u001b[0mAdjusting resolution from 384x288 to 352x288.\n",
      "\u001b[0m\u001b[1m--- Capturing frame...\n",
      "\u001b[0m\u001b[0mSkipping 60 frames...\n",
      "\u001b[0m\u001b[0mCapturing 1 frames...\n",
      "\u001b[0m\u001b[0mCaptured 61 frames in 2.06 seconds. (29 fps)\n",
      "\u001b[0m\u001b[1m--- Processing captured image...\n",
      "\u001b[0m\u001b[0mWriting JPEG image to '/home/pi/flowers/webcam/pic.jpg'.\n",
      "\u001b[0m"
     ]
    }
   ],
   "source": [
    "fswebcam -S 60 /home/pi/flowers/webcam/pic.jpg"
   ]
  },
  {
   "cell_type": "code",
   "execution_count": 2,
   "metadata": {},
   "outputs": [
    {
     "name": "stdout",
     "output_type": "stream",
     "text": [
      "Reading package lists... Done\n",
      "Building dependency tree        \n",
      "Reading state information... Done\n",
      "The following NEW packages will be installed:\n",
      "  fswebcam\n",
      "0 upgraded, 1 newly installed, 0 to remove and 0 not upgraded.\n",
      "Need to get 44.0 kB of archives.\n",
      "After this operation, 105 kB of additional disk space will be used.\n",
      "Get:1 http://mirrordirector.raspbian.org/raspbian stretch/main armhf fswebcam armhf 20140113-1 [44.0 kB]\n",
      "Fetched 44.0 kB in 0s (191 kB/s)    \n",
      "debconf: unable to initialize frontend: Dialog\n",
      "debconf: (Dialog frontend will not work on a dumb terminal, an emacs shell buffer, or without a controlling terminal.)\n",
      "debconf: falling back to frontend: Readline\n",
      "Selecting previously unselected package fswebcam.\n",
      "(Reading database ... 85232 files and directories currently installed.)\n",
      "Preparing to unpack .../fswebcam_20140113-1_armhf.deb ...\n",
      "Unpacking fswebcam (20140113-1) ...\n",
      "Setting up fswebcam (20140113-1) ...\n",
      "Processing triggers for man-db (2.7.6.1-2) ...\n"
     ]
    }
   ],
   "source": [
    "sudo apt-get install fswebcam"
   ]
  },
  {
   "cell_type": "code",
   "execution_count": 3,
   "metadata": {},
   "outputs": [
    {
     "name": "stdout",
     "output_type": "stream",
     "text": [
      "Reading package lists... Done\n",
      "Building dependency tree       \n",
      "Reading state information... Done\n",
      "fswebcam is already the newest version (20140113-1).\n",
      "0 upgraded, 0 newly installed, 0 to remove and 0 not upgraded.\n"
     ]
    }
   ],
   "source": [
    "sudo apt-get install fswebcam"
   ]
  },
  {
   "cell_type": "code",
   "execution_count": null,
   "metadata": {},
   "outputs": [
    {
     "name": "stdout",
     "output_type": "stream",
     "text": [
      "Reading package lists... Done\n",
      "Building dependency tree       \n",
      "Reading state information... Done\n",
      "The following additional packages will be installed:\n",
      "  ffmpeg libaacs0 libass5 libasyncns0 libavc1394-0 libavcodec57 libavdevice57\n",
      "  libavfilter6 libavformat57 libavresample3 libavutil55 libbdplus0 libbluray1\n",
      "  libbs2b0 libcaca0 libcdio-cdda1 libcdio-paranoia1 libcdio13 libchromaprint1\n",
      "  libdc1394-22 libebur128-1 libegl1-mesa libflac8 libflite1 libgbm1 libgme0\n",
      "  libgsm1 libiec61883-0 libjack-jackd2-0 libmp3lame0 libmpg123-0 libogg0\n",
      "  libopenal-data libopenal1 libopencv-core2.4v5 libopencv-imgproc2.4v5\n",
      "  libopenmpt0 libopus0 libpostproc54 libpulse0 libraw1394-11 librubberband2\n",
      "  libsdl2-2.0-0 libshine3 libsnappy1v5 libsndfile1 libsndio6.1 libsoxr0\n",
      "  libspeex1 libssh-gcrypt-4 libswresample2 libswscale4 libtheora0 libtwolame0\n",
      "  libva-drm1 libva-x11-1 libva1 libvdpau-va-gl1 libvdpau1 libvorbis0a\n",
      "  libvorbisenc2 libvorbisfile3 libvpx4 libwavpack1 libwayland-client0\n",
      "  libwayland-cursor0 libwayland-egl1-mesa libwayland-server0 libx264-148\n",
      "  libx265-95 libxcb-xfixes0 libxkbcommon0 libxvidcore4 libzvbi-common libzvbi0\n",
      "  mesa-va-drivers mesa-vdpau-drivers va-driver-all vdpau-driver-all\n",
      "Suggested packages:\n",
      "  ffmpeg-doc libbluray-bdj alsa-base jackd2 libportaudio2 opus-tools\n",
      "  pulseaudio libraw1394-doc sndiod speex\n",
      "The following NEW packages will be installed:\n",
      "  ffmpeg libaacs0 libass5 libasyncns0 libav-tools libavc1394-0 libavcodec57\n",
      "  libavdevice57 libavfilter6 libavformat57 libavresample3 libavutil55\n",
      "  libbdplus0 libbluray1 libbs2b0 libcaca0 libcdio-cdda1 libcdio-paranoia1\n",
      "  libcdio13 libchromaprint1 libdc1394-22 libebur128-1 libegl1-mesa libflac8\n",
      "  libflite1 libgbm1 libgme0 libgsm1 libiec61883-0 libjack-jackd2-0 libmp3lame0\n",
      "  libmpg123-0 libogg0 libopenal-data libopenal1 libopencv-core2.4v5\n",
      "  libopencv-imgproc2.4v5 libopenmpt0 libopus0 libpostproc54 libpulse0\n",
      "  libraw1394-11 librubberband2 libsdl2-2.0-0 libshine3 libsnappy1v5\n",
      "  libsndfile1 libsndio6.1 libsoxr0 libspeex1 libssh-gcrypt-4 libswresample2\n",
      "  libswscale4 libtheora0 libtwolame0 libva-drm1 libva-x11-1 libva1\n",
      "  libvdpau-va-gl1 libvdpau1 libvorbis0a libvorbisenc2 libvorbisfile3 libvpx4\n",
      "  libwavpack1 libwayland-client0 libwayland-cursor0 libwayland-egl1-mesa\n",
      "  libwayland-server0 libx264-148 libx265-95 libxcb-xfixes0 libxkbcommon0\n",
      "  libxvidcore4 libzvbi-common libzvbi0 mesa-va-drivers mesa-vdpau-drivers\n",
      "  va-driver-all vdpau-driver-all\n",
      "0 upgraded, 80 newly installed, 0 to remove and 0 not upgraded.\n",
      "Need to get 31.9 MB of archives.\n",
      "After this operation, 93.4 MB of additional disk space will be used.\n"
     ]
    }
   ],
   "source": [
    "sudo apt-get install libav-tools"
   ]
  },
  {
   "cell_type": "code",
   "execution_count": 1,
   "metadata": {},
   "outputs": [
    {
     "name": "stdout",
     "output_type": "stream",
     "text": [
      "bash.ipynb           humidity_relay.py  README.md       webcam\n",
      "bot_token.config     launcher.sh        relay.py        webcam.sh\n",
      "control_airflow.py   make_th_plot.py    relay.pyc       webcam_timelapse.py\n",
      "control_humidity.py  pop_db.py          ssh             webcam_timelapse.sh\n",
      "flowers_bot.py       __pycache__        tutorial.ipynb  wpa_supplicant.conf\n"
     ]
    }
   ],
   "source": [
    "./webcam_timelapse.sh"
   ]
  },
  {
   "cell_type": "code",
   "execution_count": null,
   "metadata": {},
   "outputs": [],
   "source": []
  }
 ],
 "metadata": {
  "kernelspec": {
   "display_name": "Bash",
   "language": "bash",
   "name": "bash"
  },
  "language_info": {
   "codemirror_mode": "shell",
   "file_extension": ".sh",
   "mimetype": "text/x-sh",
   "name": "bash"
  }
 },
 "nbformat": 4,
 "nbformat_minor": 2
}
